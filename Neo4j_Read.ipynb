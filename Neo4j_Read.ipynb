{
  "nbformat": 4,
  "nbformat_minor": 0,
  "metadata": {
    "colab": {
      "provenance": [],
      "include_colab_link": true
    },
    "kernelspec": {
      "name": "python3",
      "display_name": "Python 3"
    },
    "language_info": {
      "name": "python"
    }
  },
  "cells": [
    {
      "cell_type": "markdown",
      "metadata": {
        "id": "view-in-github",
        "colab_type": "text"
      },
      "source": [
        "<a href=\"https://colab.research.google.com/github/Matheus-Weil/Smart-Cities-Project/blob/main/Neo4j_Read.ipynb\" target=\"_parent\"><img src=\"https://colab.research.google.com/assets/colab-badge.svg\" alt=\"Open In Colab\"/></a>"
      ]
    },
    {
      "cell_type": "code",
      "source": [
        "!pip install polyline\n",
        "!pip install neo4j"
      ],
      "metadata": {
        "colab": {
          "base_uri": "https://localhost:8080/"
        },
        "id": "ZUQ6W5bFNUg8",
        "outputId": "27176a3f-6864-4789-e551-ea4339993bce",
        "collapsed": true
      },
      "execution_count": null,
      "outputs": [
        {
          "output_type": "stream",
          "name": "stdout",
          "text": [
            "Collecting polyline\n",
            "  Downloading polyline-2.0.3-py3-none-any.whl.metadata (6.5 kB)\n",
            "Downloading polyline-2.0.3-py3-none-any.whl (6.0 kB)\n",
            "Installing collected packages: polyline\n",
            "Successfully installed polyline-2.0.3\n",
            "Collecting neo4j\n",
            "  Downloading neo4j-5.28.2-py3-none-any.whl.metadata (5.9 kB)\n",
            "Requirement already satisfied: pytz in /usr/local/lib/python3.12/dist-packages (from neo4j) (2025.2)\n",
            "Downloading neo4j-5.28.2-py3-none-any.whl (313 kB)\n",
            "\u001b[2K   \u001b[90m━━━━━━━━━━━━━━━━━━━━━━━━━━━━━━━━━━━━━━━━\u001b[0m \u001b[32m313.2/313.2 kB\u001b[0m \u001b[31m7.0 MB/s\u001b[0m eta \u001b[36m0:00:00\u001b[0m\n",
            "\u001b[?25hInstalling collected packages: neo4j\n",
            "Successfully installed neo4j-5.28.2\n"
          ]
        }
      ]
    },
    {
      "cell_type": "code",
      "execution_count": null,
      "metadata": {
        "id": "rDkbn9qm_MBz",
        "collapsed": true
      },
      "outputs": [],
      "source": [
        "import os\n",
        "\n",
        "# Definindo a variável de ambiente APPDATA se não estiver definida\n",
        "if os.getenv('APPDATA') is None:\n",
        "    os.environ['APPDATA'] = os.path.expanduser('~/.local/share')\n",
        "\n",
        "import requests\n",
        "import numpy as np\n",
        "import pandas as pd\n",
        "from neo4j import GraphDatabase\n",
        "\n",
        "import json, urllib.request\n",
        "import pprint, os, json\n",
        "import polyline\n",
        "import numpy as np\n",
        "from math import degrees, isnan\n",
        "\n",
        "import pandas as pd\n",
        "import matplotlib.pyplot as plt"
      ]
    },
    {
      "cell_type": "code",
      "source": [
        "#Função para definir Polyline\n",
        "def GetPolylineCoord(origin, destiny):\n",
        "\n",
        "    mode = \"walking\"\n",
        "\n",
        "    url = \"https://maps.googleapis.com/maps/api/directions/json?origin=\"+origin.replace(\" \",\"+\")+\"&destination=\"+destiny.replace(\" \",\"+\")+\"&mode=\"+mode+key\n",
        "    ur = urllib.request.urlopen(url)\n",
        "    result = json.load(ur)\n",
        "    #pprint.pprint(result)\n",
        "    coord_routes = []\n",
        "\n",
        "    for i in range (0, len (result['routes'][0]['legs'][0]['steps'])):\n",
        "        j = result['routes'][0]['legs'][0]['steps'][i]['polyline']['points']\n",
        "        for k in polyline.decode(j):\n",
        "            coord_routes.append(k)\n",
        "\n",
        "    return coord_routes\n",
        "\n",
        "#Função que retorna as distâncias das etapas do percurso\n",
        "def GetPolylineCoord1(origin, destiny):\n",
        "\n",
        "    mode = \"walking\"\n",
        "    k =[]\n",
        "    url = \"https://maps.googleapis.com/maps/api/directions/json?origin=\"+origin.replace(\" \",\"+\")+\"&destination=\"+destiny.replace(\" \",\"+\")+\"&mode=\"+mode+key\n",
        "    ur = urllib.request.urlopen(url)\n",
        "    result = json.load(ur)\n",
        "    #pprint.pprint(result)\n",
        "    coord_routes = []\n",
        "\n",
        "    for i in range (0, len (result['routes'][0]['legs'][0]['steps'])):\n",
        "        j = result['routes'][0]['legs'][0]['steps'][i]['distance']['value']\n",
        "        k.append(j)\n",
        "\n",
        "\n",
        "    return k\n",
        "\n",
        "#Retorna ângilo entre 2 pontos\n",
        "def FindAngle(a, b):\n",
        "    vector_1 = [a[0]-b[0], a[1]-b[1]]\n",
        "    vector_2 = [0,1]\n",
        "    unit_vector_1 = vector_1 / np.linalg.norm(vector_1)\n",
        "    unit_vector_2 = vector_2 / np.linalg.norm(vector_2)\n",
        "    dot_product = np.dot(unit_vector_1, unit_vector_2)\n",
        "    angle = np.arccos(dot_product)\n",
        "\n",
        "    return degrees(angle)\n",
        "\n",
        "def SetCoordHeading(coord_list):\n",
        "    i = 0\n",
        "    new_list = []\n",
        "    while i < len(coord_list)-1:\n",
        "        new_list.append((coord_list[i][0], coord_list[i][1], FindAngle(coord_list[i], coord_list[i+1])))\n",
        "        i+=1\n",
        "    new_list.append((coord_list[-1][0], coord_list[-1][1], FindAngle(coord_list[-2], coord_list[-1])))\n",
        "    return new_list\n",
        "\n",
        "\n",
        "def SetCoordHeadingD(coord_list):\n",
        "    i = 0\n",
        "    new_list = []\n",
        "    while i < len(coord_list)-1:\n",
        "        new_list.append((coord_list[i][0], coord_list[i][1], dist(coord_list[i], coord_list[i+1])))\n",
        "        i+=1\n",
        "    new_list.append((coord_list[-1][0], coord_list[-1][1], dist(coord_list[-2], coord_list[-1])))\n",
        "    return new_list\n",
        "\n",
        "#Função para encontrar distância\n",
        "def dist(P1, P2):\n",
        "  a = (P1[0] - P2[0])**2 + (P1[1] - P2[1])**2\n",
        "  b = math.sqrt(a)\n",
        "  return b"
      ],
      "metadata": {
        "id": "1lWzb9_UvpCe"
      },
      "execution_count": null,
      "outputs": []
    },
    {
      "cell_type": "code",
      "source": [
        "#Testa conexão com banco\n",
        "URI = \"neo4j+s://711deaf5.databases.neo4j.io\"\n",
        "AUTH = (\"neo4j\", \"\")\n",
        "\n",
        "with GraphDatabase.driver(URI, auth=AUTH) as driver:\n",
        "    driver.verify_connectivity()\n",
        "    print(\"Connection established.\")"
      ],
      "metadata": {
        "colab": {
          "base_uri": "https://localhost:8080/"
        },
        "id": "CNgffqw2EL5R",
        "outputId": "1f0afc2d-f02f-4eac-934f-236f390a8ab1"
      },
      "execution_count": null,
      "outputs": [
        {
          "output_type": "stream",
          "name": "stdout",
          "text": [
            "Connection established.\n"
          ]
        }
      ]
    },
    {
      "cell_type": "code",
      "source": [
        "#Carrega banco de dados\n",
        "records, summary, keys = driver.execute_query(\n",
        "    \"MATCH (n) RETURN n\",\n",
        "    database_=\"neo4j\",\n",
        ")\n",
        "\n",
        "# Loop through results and do something with them\n",
        "for record in records:\n",
        "    print(record.data())  # obtain record as dict\n",
        "\n",
        "# Summary information\n",
        "print(\"The query `{query}` returned {records_count} records in {time} ms.\".format(\n",
        "    query=summary.query, records_count=len(records),\n",
        "    time=summary.result_available_after\n",
        "))\n"
      ],
      "metadata": {
        "colab": {
          "base_uri": "https://localhost:8080/"
        },
        "id": "KW445ng4HMdC",
        "outputId": "81713b53-0552-40b1-fe9a-1bacadf2fd3c"
      },
      "execution_count": null,
      "outputs": [
        {
          "output_type": "stream",
          "name": "stderr",
          "text": [
            "/tmp/ipython-input-2064815666.py:2: DeprecationWarning: Using a driver after it has been closed is deprecated. Future versions of the driver will raise an error.\n",
            "  records, summary, keys = driver.execute_query(\n"
          ]
        },
        {
          "output_type": "stream",
          "name": "stdout",
          "text": [
            "{'n': {'Marco': 'M1', 'latitude': -25.429293, 'longitude': -49.285918, 'Altitude': 909.751469}}\n",
            "{'n': {'Marco': 'M2', 'latitude': -25.430102, 'longitude': -49.285575, 'Altitude': 910.09877}}\n",
            "{'n': {'Marco': 'M3', 'latitude': -25.430902, 'longitude': -49.285244, 'Altitude': 910.62372}}\n",
            "{'n': {'Marco': 'M4', 'latitude': -25.432061, 'longitude': -49.284665, 'Altitude': 912.715663}}\n",
            "{'n': {'Marco': 'M5', 'latitude': -25.433292, 'longitude': -49.284117, 'Altitude': 913.445052}}\n",
            "{'n': {'Marco': 'M6', 'latitude': -25.434452, 'longitude': -49.28355, 'Altitude': 907.875437}}\n",
            "{'n': {'Marco': 'M7', 'latitude': -25.43558, 'longitude': -49.282781, 'Altitude': 901.900753}}\n",
            "{'n': {'Marco': 'M8', 'latitude': -25.436313, 'longitude': -49.281969, 'Altitude': 904.379921}}\n",
            "{'n': {'Marco': 'M9', 'latitude': -25.437454, 'longitude': -49.280731, 'Altitude': 909.894556}}\n",
            "{'n': {'Marco': 'M10', 'latitude': -25.438112, 'longitude': -49.27998, 'Altitude': 912.113412}}\n",
            "{'n': {'Marco': 'M11', 'latitude': -25.438698, 'longitude': -49.279321, 'Altitude': 914.865008}}\n",
            "{'n': {'Marco': 'M12', 'latitude': -25.438925, 'longitude': -49.279101, 'Altitude': 916.164041}}\n",
            "{'n': {'Marco': 'M13', 'latitude': -25.440576, 'longitude': -49.278284, 'Altitude': 921.489938}}\n",
            "{'n': {'Marco': 'M14', 'latitude': -25.44187, 'longitude': -49.27773, 'Altitude': 923.452715}}\n",
            "{'n': {'Marco': 'M15', 'latitude': -25.429645, 'longitude': -49.284107, 'Altitude': 904.986669}}\n",
            "{'n': {'Marco': 'M16', 'latitude': -25.430347, 'longitude': -49.283776, 'Altitude': 906.25696}}\n",
            "{'n': {'Marco': 'M17', 'latitude': -25.431, 'longitude': -49.28348, 'Altitude': 907.588048}}\n",
            "{'n': {'Marco': 'M18', 'latitude': -25.43153, 'longitude': -49.283246, 'Altitude': 908.668013}}\n",
            "{'n': {'Marco': 'M19', 'latitude': -25.432729, 'longitude': -49.28267, 'Altitude': 909.506284}}\n",
            "{'n': {'Marco': 'M20', 'latitude': -25.433891, 'longitude': -49.282104, 'Altitude': 906.652155}}\n",
            "{'n': {'Marco': 'M21', 'latitude': -25.435086, 'longitude': -49.281534, 'Altitude': 901.116996}}\n",
            "{'n': {'Marco': 'M22', 'latitude': -25.436623, 'longitude': -49.279839, 'Altitude': 908.016097}}\n",
            "{'n': {'Marco': 'M23', 'latitude': -25.437304, 'longitude': -49.279156, 'Altitude': 910.17322}}\n",
            "{'n': {'Marco': 'M24', 'latitude': -25.43793, 'longitude': -49.27843, 'Altitude': 912.717763}}\n",
            "{'n': {'Marco': 'M25', 'latitude': -25.438449, 'longitude': -49.277921, 'Altitude': 912.782967}}\n",
            "{'n': {'Marco': 'M26', 'latitude': -25.4401, 'longitude': -49.277093, 'Altitude': 916.663229}}\n",
            "{'n': {'Marco': 'M27', 'latitude': -25.441403, 'longitude': -49.276452, 'Altitude': 920.690115}}\n",
            "{'n': {'Marco': 'M28', 'latitude': -25.429943, 'longitude': -49.282613, 'Altitude': 903.932024}}\n",
            "{'n': {'Marco': 'M29', 'latitude': -25.43048, 'longitude': -49.282382, 'Altitude': 904.70344}}\n",
            "{'n': {'Marco': 'M30', 'latitude': -25.431095, 'longitude': -49.282066, 'Altitude': 904.735124}}\n",
            "{'n': {'Marco': 'M31', 'latitude': -25.43226, 'longitude': -49.281493, 'Altitude': 906.018876}}\n",
            "{'n': {'Marco': 'M32', 'latitude': -25.433428, 'longitude': -49.280927, 'Altitude': 904.56366}}\n",
            "{'n': {'Marco': 'M33', 'latitude': -25.430665, 'longitude': -49.280867, 'Altitude': 901.940099}}\n",
            "{'n': {'Marco': 'M34', 'latitude': -25.431798, 'longitude': -49.280304, 'Altitude': 903.457845}}\n",
            "{'n': {'Marco': 'M35', 'latitude': -25.43295, 'longitude': -49.279745, 'Altitude': 903.921115}}\n",
            "{'n': {'Marco': 'M36', 'latitude': -25.43417, 'longitude': -49.279187, 'Altitude': 898.673493}}\n",
            "{'n': {'Marco': 'M37', 'latitude': -25.435114, 'longitude': -49.278133, 'Altitude': 905.591908}}\n",
            "{'n': {'Marco': 'M38', 'latitude': -25.436351, 'longitude': -49.276745, 'Altitude': 908.377471}}\n",
            "{'n': {'Marco': 'M39', 'latitude': -25.43673, 'longitude': -49.27716, 'Altitude': 907.905225}}\n",
            "{'n': {'Marco': 'M40', 'latitude': -25.43794, 'longitude': -49.276596, 'Altitude': 910.041362}}\n",
            "{'n': {'Marco': 'M41', 'latitude': -25.437478, 'longitude': -49.27542, 'Altitude': 907.605182}}\n",
            "{'n': {'Marco': 'M42', 'latitude': -25.439613, 'longitude': -49.275759, 'Altitude': 914.370893}}\n",
            "{'n': {'Marco': 'M43', 'latitude': -25.440875, 'longitude': -49.275155, 'Altitude': 917.129418}}\n",
            "{'n': {'Marco': 'M44', 'latitude': -25.439155, 'longitude': -49.274672, 'Altitude': 911.599375}}\n",
            "{'n': {'Marco': 'M45', 'latitude': -25.44047, 'longitude': -49.274036, 'Altitude': 914.792744}}\n",
            "{'n': {'Marco': 'M46', 'latitude': -25.430078, 'longitude': -49.279192, 'Altitude': 904.547499}}\n",
            "{'n': {'Marco': 'M47', 'latitude': -25.431099, 'longitude': -49.278643, 'Altitude': 900.22677}}\n",
            "{'n': {'Marco': 'M48', 'latitude': -25.431359, 'longitude': -49.279219, 'Altitude': 900.806579}}\n",
            "{'n': {'Marco': 'M49', 'latitude': -25.431535, 'longitude': -49.278473, 'Altitude': 899.382062}}\n",
            "{'n': {'Marco': 'M50', 'latitude': -25.432267, 'longitude': -49.278006, 'Altitude': 898.814411}}\n",
            "{'n': {'Marco': 'M51', 'latitude': -25.43349, 'longitude': -49.277461, 'Altitude': 898.938655}}\n",
            "{'n': {'Marco': 'M52', 'latitude': -25.434041, 'longitude': -49.276936, 'Altitude': 899.265015}}\n",
            "{'n': {'Marco': 'M53', 'latitude': -25.43465, 'longitude': -49.276244, 'Altitude': 902.438022}}\n",
            "{'n': {'Marco': 'M54', 'latitude': -25.435277, 'longitude': -49.275503, 'Altitude': 903.139685}}\n",
            "{'n': {'Marco': 'M55', 'latitude': -25.437074, 'longitude': -49.274442, 'Altitude': 905.419034}}\n",
            "{'n': {'Marco': 'M56', 'latitude': -25.438723, 'longitude': -49.273646, 'Altitude': 908.513577}}\n",
            "{'n': {'Marco': 'M57', 'latitude': -25.440043, 'longitude': -49.272965, 'Altitude': 909.676682}}\n",
            "{'n': {'Marco': 'M58', 'latitude': -25.435948, 'longitude': -49.274812, 'Altitude': 904.216898}}\n",
            "{'n': {'Marco': 'M59', 'latitude': -25.429694, 'longitude': -49.278038, 'Altitude': 908.466676}}\n",
            "{'n': {'Marco': 'M60', 'latitude': -25.430696, 'longitude': -49.277603, 'Altitude': 905.977889}}\n",
            "{'n': {'Marco': 'M61', 'latitude': -25.431253, 'longitude': -49.277384, 'Altitude': 901.10399}}\n",
            "{'n': {'Marco': 'M62', 'latitude': -25.431902, 'longitude': -49.277052, 'Altitude': 898.359076}}\n",
            "{'n': {'Marco': 'M63', 'latitude': -25.432695, 'longitude': -49.276279, 'Altitude': 895.933589}}\n",
            "{'n': {'Marco': 'M64', 'latitude': -25.433241, 'longitude': -49.276789, 'Altitude': 900.391467}}\n",
            "{'n': {'Marco': 'M65', 'latitude': -25.433877, 'longitude': -49.27623, 'Altitude': 900.281697}}\n",
            "{'n': {'Marco': 'M66', 'latitude': -25.433356, 'longitude': -49.275626, 'Altitude': 900.266004}}\n",
            "{'n': {'Marco': 'M67', 'latitude': -25.434894, 'longitude': -49.275142, 'Altitude': 902.103426}}\n",
            "{'n': {'Marco': 'M68', 'latitude': -25.434356, 'longitude': -49.274538, 'Altitude': 900.377817}}\n",
            "{'n': {'Marco': 'M69', 'latitude': -25.435245, 'longitude': -49.273574, 'Altitude': 900.872591}}\n",
            "{'n': {'Marco': 'M70', 'latitude': -25.436717, 'longitude': -49.27344, 'Altitude': 904.619723}}\n",
            "{'n': {'Marco': 'M71', 'latitude': -25.436316, 'longitude': -49.272483, 'Altitude': 903.841823}}\n",
            "{'n': {'Marco': 'M72', 'latitude': -25.438344, 'longitude': -49.272632, 'Altitude': 906.233845}}\n",
            "{'n': {'Marco': 'M73', 'latitude': -25.43796, 'longitude': -49.271688, 'Altitude': 903.868713}}\n",
            "{'n': {'Marco': 'M74', 'latitude': -25.43969, 'longitude': -49.272008, 'Altitude': 906.423428}}\n",
            "{'n': {'Marco': 'M75', 'latitude': -25.42939, 'longitude': -49.277146, 'Altitude': 912.959836}}\n",
            "{'n': {'Marco': 'M76', 'latitude': -25.430384, 'longitude': -49.276714, 'Altitude': 905.192091}}\n",
            "{'n': {'Marco': 'M77', 'latitude': -25.430545, 'longitude': -49.277168, 'Altitude': 907.269517}}\n",
            "{'n': {'Marco': 'M78', 'latitude': -25.430951, 'longitude': -49.276733, 'Altitude': 899.617095}}\n",
            "{'n': {'Marco': 'M79', 'latitude': -25.431524, 'longitude': -49.276113, 'Altitude': 902.978194}}\n",
            "{'n': {'Marco': 'M80', 'latitude': -25.432069, 'longitude': -49.275577, 'Altitude': 899.595629}}\n",
            "{'n': {'Marco': 'M81', 'latitude': -25.432629, 'longitude': -49.274901, 'Altitude': 898.54767}}\n",
            "{'n': {'Marco': 'M82', 'latitude': -25.433675, 'longitude': -49.273756, 'Altitude': 898.186518}}\n",
            "{'n': {'Marco': 'M83', 'latitude': -25.434873, 'longitude': -49.272565, 'Altitude': 899.032331}}\n",
            "{'n': {'Marco': 'M84', 'latitude': -25.429074, 'longitude': -49.276092, 'Altitude': 912.619388}}\n",
            "{'n': {'Marco': 'M85', 'latitude': -25.43006, 'longitude': -49.275672, 'Altitude': 915.261814}}\n",
            "{'n': {'Marco': 'M86', 'latitude': -25.430501, 'longitude': -49.275477, 'Altitude': 899.509605}}\n",
            "{'n': {'Marco': 'M87', 'latitude': -25.431267, 'longitude': -49.27516, 'Altitude': 901.698617}}\n",
            "{'n': {'Marco': 'M88', 'latitude': -25.432371, 'longitude': -49.274632, 'Altitude': 896.471166}}\n",
            "{'n': {'Marco': 'M89', 'latitude': -25.42875, 'longitude': -49.275108, 'Altitude': 909.751116}}\n",
            "{'n': {'Marco': 'M90', 'latitude': -25.429745, 'longitude': -49.274687, 'Altitude': 905.05593}}\n",
            "{'n': {'Marco': 'M91', 'latitude': -25.430218, 'longitude': -49.274523, 'Altitude': 903.061843}}\n",
            "{'n': {'Marco': 'M92', 'latitude': -25.430997, 'longitude': -49.274094, 'Altitude': 898.896326}}\n",
            "{'n': {'Marco': 'M93', 'latitude': -25.431994, 'longitude': -49.273669, 'Altitude': 896.755897}}\n",
            "{'n': {'Marco': 'M94', 'latitude': -25.43279, 'longitude': -49.272842, 'Altitude': 895.896901}}\n",
            "{'n': {'Marco': 'M95', 'latitude': -25.433629, 'longitude': -49.272391, 'Altitude': 899.005197}}\n",
            "{'n': {'Marco': 'M96', 'latitude': -25.434562, 'longitude': -49.271982, 'Altitude': 898.41257}}\n",
            "{'n': {'Marco': 'M97', 'latitude': -25.435896, 'longitude': -49.271408, 'Altitude': 901.764108}}\n",
            "{'n': {'Marco': 'M98', 'latitude': -25.437571, 'longitude': -49.270593, 'Altitude': 900.536937}}\n",
            "{'n': {'Marco': 'M99', 'latitude': -25.428594, 'longitude': -49.274076, 'Altitude': 915.16506}}\n",
            "{'n': {'Marco': 'M100', 'latitude': -25.429432, 'longitude': -49.273709, 'Altitude': 909.132493}}\n",
            "{'n': {'Marco': 'M101', 'latitude': -25.429789, 'longitude': -49.273534, 'Altitude': 906.676444}}\n",
            "{'n': {'Marco': 'M102', 'latitude': -25.43061, 'longitude': -49.273141, 'Altitude': 902.682753}}\n",
            "{'n': {'Marco': 'M103', 'latitude': -25.431094, 'longitude': -49.272873, 'Altitude': 902.23407}}\n",
            "{'n': {'Marco': 'M104', 'latitude': -25.431623, 'longitude': -49.272665, 'Altitude': 897.66543}}\n",
            "{'n': {'Marco': 'M105', 'latitude': -25.432447, 'longitude': -49.272234, 'Altitude': 895.632247}}\n",
            "{'n': {'Marco': 'M106', 'latitude': -25.433401, 'longitude': -49.271796, 'Altitude': 904.105544}}\n",
            "{'n': {'Marco': 'M107', 'latitude': -25.434225, 'longitude': -49.271386, 'Altitude': 896.755184}}\n",
            "{'n': {'Marco': 'M108', 'latitude': -25.435606, 'longitude': -49.270718, 'Altitude': 899.84944}}\n",
            "{'n': {'Marco': 'M109', 'latitude': -25.437316, 'longitude': -49.269937, 'Altitude': 899.406076}}\n",
            "{'n': {'Marco': 'M110', 'latitude': -25.428631, 'longitude': -49.273147, 'Altitude': 911.899813}}\n",
            "{'n': {'Marco': 'M111', 'latitude': -25.429195, 'longitude': -49.272905, 'Altitude': 910.371461}}\n",
            "{'n': {'Marco': 'M112', 'latitude': -25.429537, 'longitude': -49.272664, 'Altitude': 906.736027}}\n",
            "{'n': {'Marco': 'M113', 'latitude': -25.430295, 'longitude': -49.272255, 'Altitude': 904.181423}}\n",
            "{'n': {'Marco': 'M114', 'latitude': -25.43129, 'longitude': -49.271823, 'Altitude': 898.683046}}\n",
            "{'n': {'Marco': 'M115', 'latitude': -25.432195, 'longitude': -49.271337, 'Altitude': 897.105287}}\n",
            "{'n': {'Marco': 'M116', 'latitude': -25.433029, 'longitude': -49.270938, 'Altitude': 896.548285}}\n",
            "{'n': {'Marco': 'M117', 'latitude': -25.433923, 'longitude': -49.270597, 'Altitude': 896.386868}}\n",
            "{'n': {'Marco': 'M118', 'latitude': -25.435291, 'longitude': -49.269884, 'Altitude': 897.980053}}\n",
            "{'n': {'Marco': 'M119', 'latitude': -25.436963, 'longitude': -49.269051, 'Altitude': 897.943134}}\n",
            "{'n': {'Marco': 'M120', 'latitude': -25.428189, 'longitude': -49.272135, 'Altitude': 909.924538}}\n",
            "{'n': {'Marco': 'M121', 'latitude': -25.42883, 'longitude': -49.271817, 'Altitude': 909.476582}}\n",
            "{'n': {'Marco': 'M122', 'latitude': -25.429228, 'longitude': -49.271599, 'Altitude': 907.802764}}\n",
            "{'n': {'Marco': 'M123', 'latitude': -25.430014, 'longitude': -49.271348, 'Altitude': 906.431723}}\n",
            "{'n': {'Marco': 'M124', 'latitude': -25.424392, 'longitude': -49.270103, 'Altitude': 897.409912}}\n",
            "{'n': {'Marco': 'M125', 'latitude': -25.425468, 'longitude': -49.270405, 'Altitude': 901.231175}}\n",
            "{'n': {'Marco': 'M126', 'latitude': -25.426051, 'longitude': -49.270531, 'Altitude': 904.632185}}\n",
            "{'n': {'Marco': 'M127', 'latitude': -25.426976, 'longitude': -49.270777, 'Altitude': 908.067939}}\n",
            "{'n': {'Marco': 'M128', 'latitude': -25.428049, 'longitude': -49.271018, 'Altitude': 907.460932}}\n",
            "{'n': {'Marco': 'M129', 'latitude': -25.42852, 'longitude': -49.271157, 'Altitude': 907.24075}}\n",
            "{'n': {'Marco': 'M130', 'latitude': -25.429122, 'longitude': -49.271268, 'Altitude': 906.732906}}\n",
            "{'n': {'Marco': 'M131', 'latitude': -25.429777, 'longitude': -49.271035, 'Altitude': 905.548644}}\n",
            "{'n': {'Marco': 'M132', 'latitude': -25.424432, 'longitude': -49.26951, 'Altitude': 897.439614}}\n",
            "{'n': {'Marco': 'M133', 'latitude': -25.425572, 'longitude': -49.269667, 'Altitude': 899.21001}}\n",
            "{'n': {'Marco': 'M134', 'latitude': -25.426255, 'longitude': -49.269574, 'Altitude': 901.102587}}\n",
            "{'n': {'Marco': 'M135', 'latitude': -25.42724, 'longitude': -49.269496, 'Altitude': 905.493292}}\n",
            "{'n': {'Marco': 'M136', 'latitude': -25.428381, 'longitude': -49.269351, 'Altitude': 905.312565}}\n",
            "{'n': {'Marco': 'M137', 'latitude': -25.4291, 'longitude': -49.270072, 'Altitude': 904.933997}}\n",
            "{'n': {'Marco': 'M138', 'latitude': -25.428763, 'longitude': -49.269342, 'Altitude': 904.270325}}\n",
            "{'n': {'Marco': 'M139', 'latitude': -25.429466, 'longitude': -49.269833, 'Altitude': 903.118646}}\n",
            "{'n': {'Marco': 'M140', 'latitude': -25.429317, 'longitude': -49.269282, 'Altitude': 905.438014}}\n",
            "{'n': {'Marco': 'M141', 'latitude': -25.429708, 'longitude': -49.269298, 'Altitude': 902.384457}}\n",
            "{'n': {'Marco': 'M142', 'latitude': -25.430822, 'longitude': -49.270727, 'Altitude': 902.494279}}\n",
            "{'n': {'Marco': 'M143', 'latitude': -25.430242, 'longitude': -49.269175, 'Altitude': 902.531981}}\n",
            "{'n': {'Marco': 'M144', 'latitude': -25.431768, 'longitude': -49.270385, 'Altitude': 898.862663}}\n",
            "{'n': {'Marco': 'M145', 'latitude': -25.431063, 'longitude': -49.268809, 'Altitude': 897.254337}}\n",
            "{'n': {'Marco': 'M146', 'latitude': -25.43274, 'longitude': -49.270109, 'Altitude': 895.875961}}\n",
            "{'n': {'Marco': 'M147', 'latitude': -25.432097, 'longitude': -49.268332, 'Altitude': 895.82193}}\n",
            "{'n': {'Marco': 'M148', 'latitude': -25.433568, 'longitude': -49.269693, 'Altitude': 897.380855}}\n",
            "{'n': {'Marco': 'M149', 'latitude': -25.432889, 'longitude': -49.267953, 'Altitude': 893.902244}}\n",
            "{'n': {'Marco': 'M150', 'latitude': -25.434831, 'longitude': -49.26878, 'Altitude': 896.136589}}\n",
            "{'n': {'Marco': 'M151', 'latitude': -25.43423, 'longitude': -49.267329, 'Altitude': 893.951869}}\n",
            "{'n': {'Marco': 'M152', 'latitude': -25.436533, 'longitude': -49.267959, 'Altitude': 896.999956}}\n",
            "{'n': {'Marco': 'M153', 'latitude': -25.435947, 'longitude': -49.266517, 'Altitude': 893.390483}}\n",
            "{'n': {'Marco': 'M154', 'latitude': -25.426382, 'longitude': -49.268639, 'Altitude': 896.75548}}\n",
            "{'n': {'Marco': 'M155', 'latitude': -25.427394, 'longitude': -49.268539, 'Altitude': 898.184795}}\n",
            "{'n': {'Marco': 'M156', 'latitude': -25.428325, 'longitude': -49.268401, 'Altitude': 900.481513}}\n",
            "{'n': {'Marco': 'M157', 'latitude': -25.428683, 'longitude': -49.268207, 'Altitude': 899.881857}}\n",
            "{'n': {'Marco': 'M158', 'latitude': -25.429632, 'longitude': -49.267751, 'Altitude': 899.540244}}\n",
            "{'n': {'Marco': 'M159', 'latitude': -25.430559, 'longitude': -49.267409, 'Altitude': 898.612035}}\n",
            "{'n': {'Marco': 'M160', 'latitude': -25.431681, 'longitude': -49.26721, 'Altitude': 893.774124}}\n",
            "{'n': {'Marco': 'M161', 'latitude': -25.432529, 'longitude': -49.266806, 'Altitude': 894.58486}}\n",
            "{'n': {'Marco': 'M162', 'latitude': -25.433787, 'longitude': -49.266219, 'Altitude': 892.55261}}\n",
            "{'n': {'Marco': 'M163', 'latitude': -25.435538, 'longitude': -49.265382, 'Altitude': 891.185788}}\n",
            "{'n': {'Marco': 'M164', 'latitude': -25.438909, 'longitude': -49.269987, 'Altitude': 902.258321}}\n",
            "{'n': {'Marco': 'M165', 'latitude': -25.43827, 'longitude': -49.268331, 'Altitude': 899.000752}}\n",
            "{'n': {'Marco': 'M166', 'latitude': -25.43787, 'longitude': -49.267256, 'Altitude': 895.919137}}\n",
            "{'n': {'Marco': 'M167', 'latitude': -25.437061, 'longitude': -49.267702, 'Altitude': 895.798087}}\n",
            "{'n': {'Marco': 'M168', 'latitude': -25.436534, 'longitude': -49.266262, 'Altitude': 894.666359}}\n",
            "{'n': {'Marco': 'M169', 'latitude': -25.437271, 'longitude': -49.265898, 'Altitude': 895.128576}}\n",
            "{'n': {'Marco': 'M170', 'latitude': -25.4369, 'longitude': -49.264775, 'Altitude': 892.911369}}\n",
            "{'n': {'Marco': 'M171', 'latitude': -25.423553, 'longitude': -49.267826, 'Altitude': 897.374348}}\n",
            "{'n': {'Marco': 'M172', 'latitude': -25.422607, 'longitude': -49.266607, 'Altitude': 901.759154}}\n",
            "{'n': {'Marco': 'M173', 'latitude': -25.425176, 'longitude': -49.265995, 'Altitude': 896.399151}}\n",
            "{'n': {'Marco': 'M174', 'latitude': -25.426961, 'longitude': -49.265134, 'Altitude': 894.427127}}\n",
            "{'n': {'Marco': 'M175', 'latitude': -25.426894, 'longitude': -49.266316, 'Altitude': 900.749873}}\n",
            "{'n': {'Marco': 'M176', 'latitude': -25.427989, 'longitude': -49.265884, 'Altitude': 895.999648}}\n",
            "{'n': {'Marco': 'M177', 'latitude': -25.428788, 'longitude': -49.265542, 'Altitude': 895.340678}}\n",
            "{'n': {'Marco': 'M178', 'latitude': -25.429423, 'longitude': -49.267093, 'Altitude': 897.703904}}\n",
            "{'n': {'Marco': 'M179', 'latitude': -25.430228, 'longitude': -49.266699, 'Altitude': 896.749112}}\n",
            "{'n': {'Marco': 'M180', 'latitude': -25.429588, 'longitude': -49.265176, 'Altitude': 892.691863}}\n",
            "{'n': {'Marco': 'M181', 'latitude': -25.431267, 'longitude': -49.266179, 'Altitude': 894.266969}}\n",
            "{'n': {'Marco': 'M182', 'latitude': -25.430624, 'longitude': -49.264741, 'Altitude': 892.268179}}\n",
            "{'n': {'Marco': 'M183', 'latitude': -25.432091, 'longitude': -49.265742, 'Altitude': 892.496253}}\n",
            "{'n': {'Marco': 'M184', 'latitude': -25.431502, 'longitude': -49.264335, 'Altitude': 891.977245}}\n",
            "{'n': {'Marco': 'M185', 'latitude': -25.433273, 'longitude': -49.265018, 'Altitude': 892.03021}}\n",
            "{'n': {'Marco': 'M186', 'latitude': -25.432258, 'longitude': -49.264019, 'Altitude': 892.228422}}\n",
            "{'n': {'Marco': 'M187', 'latitude': -25.43277, 'longitude': -49.26381, 'Altitude': 892.604622}}\n",
            "{'n': {'Marco': 'M188', 'latitude': -25.434954, 'longitude': -49.264221, 'Altitude': 890.567123}}\n",
            "{'n': {'Marco': 'M189', 'latitude': -25.434537, 'longitude': -49.263008, 'Altitude': 890.566968}}\n",
            "{'n': {'Marco': 'M190', 'latitude': -25.436497, 'longitude': -49.263577, 'Altitude': 890.777107}}\n",
            "{'n': {'Marco': 'M191', 'latitude': -25.435985, 'longitude': -49.262361, 'Altitude': 890.137204}}\n",
            "{'n': {'Marco': 'M192', 'latitude': -25.427623, 'longitude': -49.264756, 'Altitude': 894.841142}}\n",
            "{'n': {'Marco': 'M193', 'latitude': -25.428352, 'longitude': -49.264404, 'Altitude': 893.315729}}\n",
            "{'n': {'Marco': 'M194', 'latitude': -25.429193, 'longitude': -49.264066, 'Altitude': 893.049938}}\n",
            "{'n': {'Marco': 'M195', 'latitude': -25.430043, 'longitude': -49.263683, 'Altitude': 892.582547}}\n",
            "{'n': {'Marco': 'M196', 'latitude': -25.431145, 'longitude': -49.263189, 'Altitude': 891.507844}}\n",
            "{'n': {'Marco': 'M197', 'latitude': -25.431733, 'longitude': -49.262923, 'Altitude': 891.394763}}\n",
            "{'n': {'Marco': 'M198', 'latitude': -25.432315, 'longitude': -49.262693, 'Altitude': 891.347805}}\n",
            "{'n': {'Marco': 'M199', 'latitude': -25.43411, 'longitude': -49.261923, 'Altitude': 890.566706}}\n",
            "{'n': {'Marco': 'M200', 'latitude': -25.435676, 'longitude': -49.26128, 'Altitude': 889.254775}}\n",
            "{'n': {'Marco': 'M201', 'latitude': -25.423573, 'longitude': -49.264208, 'Altitude': 902.944008}}\n",
            "{'n': {'Marco': 'M202', 'latitude': -25.425967, 'longitude': -49.262908, 'Altitude': 894.950984}}\n",
            "{'n': {'Marco': 'M203', 'latitude': -25.426629, 'longitude': -49.264253, 'Altitude': 894.2803}}\n",
            "{'n': {'Marco': 'M204', 'latitude': -25.427162, 'longitude': -49.264014, 'Altitude': 894.429404}}\n",
            "{'n': {'Marco': 'M205', 'latitude': -25.428199, 'longitude': -49.263629, 'Altitude': 893.659248}}\n",
            "{'n': {'Marco': 'M206', 'latitude': -25.42778, 'longitude': -49.262821, 'Altitude': 894.52745}}\n",
            "{'n': {'Marco': 'M207', 'latitude': -25.427526, 'longitude': -49.262139, 'Altitude': 894.710916}}\n",
            "{'n': {'Marco': 'M208', 'latitude': -25.428834, 'longitude': -49.263327, 'Altitude': 893.707894}}\n",
            "{'n': {'Marco': 'M209', 'latitude': -25.428434, 'longitude': -49.262511, 'Altitude': 894.397951}}\n",
            "{'n': {'Marco': 'M210', 'latitude': -25.428167, 'longitude': -49.26176, 'Altitude': 895.073047}}\n",
            "{'n': {'Marco': 'M211', 'latitude': -25.429743, 'longitude': -49.262862, 'Altitude': 892.663229}}\n",
            "{'n': {'Marco': 'M212', 'latitude': -25.429423, 'longitude': -49.262063, 'Altitude': 893.266429}}\n",
            "{'n': {'Marco': 'M213', 'latitude': -25.429128, 'longitude': -49.2613, 'Altitude': 896.403407}}\n",
            "{'n': {'Marco': 'M214', 'latitude': -25.430839, 'longitude': -49.262447, 'Altitude': 892.70148}}\n",
            "{'n': {'Marco': 'M215', 'latitude': -25.430465, 'longitude': -49.261584, 'Altitude': 892.861793}}\n",
            "{'n': {'Marco': 'M216', 'latitude': -25.430121, 'longitude': -49.260798, 'Altitude': 896.337079}}\n",
            "{'n': {'Marco': 'M217', 'latitude': -25.431441, 'longitude': -49.26211, 'Altitude': 892.200777}}\n",
            "{'n': {'Marco': 'M218', 'latitude': -25.43203, 'longitude': -49.261826, 'Altitude': 891.876368}}\n",
            "{'n': {'Marco': 'M219', 'latitude': -25.431645, 'longitude': -49.26104, 'Altitude': 891.493698}}\n",
            "{'n': {'Marco': 'M220', 'latitude': -25.431303, 'longitude': -49.260225, 'Altitude': 892.430169}}\n",
            "{'n': {'Marco': 'M221', 'latitude': -25.433871, 'longitude': -49.261018, 'Altitude': 890.757884}}\n",
            "{'n': {'Marco': 'M222', 'latitude': -25.433476, 'longitude': -49.260199, 'Altitude': 890.567074}}\n",
            "{'n': {'Marco': 'M223', 'latitude': -25.433081, 'longitude': -49.259191, 'Altitude': 890.615063}}\n",
            "{'n': {'Marco': 'M224', 'latitude': -25.435201, 'longitude': -49.260381, 'Altitude': 889.686191}}\n",
            "{'n': {'Marco': 'M225', 'latitude': -25.434897, 'longitude': -49.25953, 'Altitude': 890.348988}}\n",
            "{'n': {'Marco': 'M226', 'latitude': -25.434542, 'longitude': -49.258547, 'Altitude': 889.948447}}\n",
            "{'n': {'Marco': 'M227', 'latitude': -25.424166, 'longitude': -49.262652, 'Altitude': 906.208657}}\n",
            "{'n': {'Marco': 'M228', 'latitude': -25.425646, 'longitude': -49.26201, 'Altitude': 898.333722}}\n",
            "{'n': {'Marco': 'M229', 'latitude': -25.426275, 'longitude': -49.261602, 'Altitude': 899.765812}}\n",
            "{'n': {'Marco': 'M230', 'latitude': -25.427147, 'longitude': -49.261153, 'Altitude': 897.320921}}\n",
            "{'n': {'Marco': 'M231', 'latitude': -25.427782, 'longitude': -49.260857, 'Altitude': 900.382734}}\n",
            "{'n': {'Marco': 'M232', 'latitude': -25.428719, 'longitude': -49.260393, 'Altitude': 905.969897}}\n",
            "{'n': {'Marco': 'M233', 'latitude': -25.429803, 'longitude': -49.259906, 'Altitude': 902.844434}}\n",
            "{'n': {'Marco': 'M234', 'latitude': -25.430941, 'longitude': -49.259211, 'Altitude': 901.793573}}\n",
            "{'n': {'Marco': 'M235', 'latitude': -25.432846, 'longitude': -49.258413, 'Altitude': 891.891915}}\n",
            "{'n': {'Marco': 'M236', 'latitude': -25.43429, 'longitude': -49.257597, 'Altitude': 891.287299}}\n",
            "{'n': {'Marco': 'M237', 'latitude': -25.425186, 'longitude': -49.260869, 'Altitude': 907.041699}}\n",
            "{'n': {'Marco': 'M238', 'latitude': -25.424748, 'longitude': -49.259832, 'Altitude': 914.258529}}\n",
            "{'n': {'Marco': 'M239', 'latitude': -25.425441, 'longitude': -49.259526, 'Altitude': 913.36181}}\n",
            "{'n': {'Marco': 'M240', 'latitude': -25.42635, 'longitude': -49.25911, 'Altitude': 911.532304}}\n",
            "{'n': {'Marco': 'M241', 'latitude': -25.426985, 'longitude': -49.258852, 'Altitude': 909.810298}}\n",
            "{'n': {'Marco': 'M242', 'latitude': -25.427232, 'longitude': -49.259562, 'Altitude': 904.634533}}\n",
            "{'n': {'Marco': 'M243', 'latitude': -25.42817, 'longitude': -49.259029, 'Altitude': 908.727671}}\n",
            "{'n': {'Marco': 'M244', 'latitude': -25.427965, 'longitude': -49.258506, 'Altitude': 910.209668}}\n",
            "{'n': {'Marco': 'M245', 'latitude': -25.429274, 'longitude': -49.258468, 'Altitude': 911.298807}}\n",
            "{'n': {'Marco': 'M246', 'latitude': -25.43052, 'longitude': -49.258231, 'Altitude': 911.56657}}\n",
            "{'n': {'Marco': 'M247', 'latitude': -25.430529, 'longitude': -49.25761, 'Altitude': 911.888445}}\n",
            "{'n': {'Marco': 'M248', 'latitude': -25.432348, 'longitude': -49.25737, 'Altitude': 900.184449}}\n",
            "{'n': {'Marco': 'M249', 'latitude': -25.432116, 'longitude': -49.256571, 'Altitude': 905.437939}}\n",
            "{'n': {'Marco': 'M250', 'latitude': -25.43379, 'longitude': -49.256591, 'Altitude': 895.08338}}\n",
            "{'n': {'Marco': 'M251', 'latitude': -25.433521, 'longitude': -49.255672, 'Altitude': 898.574149}}\n",
            "{'n': {'Marco': 'M252', 'latitude': -25.426628, 'longitude': -49.262608, 'Altitude': 894.075514}}\n",
            "{'n': {'Marco': 'M253', 'latitude': -25.424809, 'longitude': -49.26953, 'Altitude': 897.439614}}\n",
            "{'n': {'Marco': 'M254', 'latitude': -25.424361, 'longitude': -49.269065, 'Altitude': 897.439614}}\n",
            "{'n': {'Marco': 'M255', 'latitude': -25.424504, 'longitude': -49.268953, 'Altitude': 897.439614}}\n",
            "{'n': {'Marco': 'M256', 'latitude': -25.424221, 'longitude': -49.268883, 'Altitude': 897.439614}}\n",
            "{'n': {'Marco': 'M257', 'latitude': -25.428242, 'longitude': -49.272361, 'Altitude': 909.924538}}\n",
            "{'n': {'Marco': 'M258', 'latitude': -25.428147, 'longitude': -49.271999, 'Altitude': 909.924538}}\n",
            "{'n': {'Marco': 'M259', 'latitude': -25.429385, 'longitude': -49.258822, 'Altitude': 911.298807}}\n",
            "{'n': {'Marco': 'M260', 'latitude': -25.429308, 'longitude': -49.258082, 'Altitude': 911.298807}}\n",
            "The query `MATCH (n) RETURN n` returned 260 records in 14 ms.\n"
          ]
        }
      ]
    },
    {
      "cell_type": "code",
      "source": [
        "constant = 131\n",
        "records[constant].data()['n']"
      ],
      "metadata": {
        "colab": {
          "base_uri": "https://localhost:8080/"
        },
        "id": "il1SPgCfNyHF",
        "outputId": "70990a52-eb49-4e7a-d700-e1beb90fd093"
      },
      "execution_count": null,
      "outputs": [
        {
          "output_type": "execute_result",
          "data": {
            "text/plain": [
              "{'Marco': 'M132',\n",
              " 'latitude': -25.424432,\n",
              " 'longitude': -49.26951,\n",
              " 'Altitude': 897.439614}"
            ]
          },
          "metadata": {},
          "execution_count": 7
        }
      ]
    },
    {
      "cell_type": "code",
      "source": [
        "#Passo 1\n",
        "#Chave para acesso Google Cloud\n",
        "key = \"&key=\"\n",
        "\n",
        "#Seleciona o ponto de partida\n",
        "start = str(records[constant].data()['n']['latitude']) + ', ' + str(records[constant].data()['n']['longitude'])\n",
        "id0 = records[constant].data()['n']['Marco']\n",
        "Alt0 = records[constant].data()['n']['Altitude']\n",
        "print(start)\n",
        "\n",
        "#Retorna pontos próximos do ponto de partida dentro da área definida\n",
        "recordsBB, summaryBB, keysBB = driver.execute_query(\n",
        "    \"\"\"\n",
        "    MATCH (corner:Esquina)\n",
        "    WHERE corner.Marco = $id\n",
        "\n",
        "    WITH\n",
        "      point({longitude: corner.longitude-0.004, latitude: corner.latitude-0.004}) AS lowerLeft,\n",
        "      point({longitude: corner.longitude+0.004, latitude: corner.latitude+0.004}) AS upperRight\n",
        "    MATCH (t:Esquina)\n",
        "    WHERE point.withinBBox(point({longitude: t.longitude, latitude: t.latitude}), lowerLeft, upperRight)\n",
        "    RETURN t\"\"\",\n",
        "    id=id0,\n",
        "    database_=\"neo4j\",\n",
        ")\n",
        "\n",
        "#Print dos dados\n",
        "for recordBB in recordsBB:\n",
        "    print(recordBB.data())  # obtain record as dict"
      ],
      "metadata": {
        "colab": {
          "base_uri": "https://localhost:8080/"
        },
        "id": "aufM9xL3ne5A",
        "outputId": "0bf717b3-d560-4e58-fe40-9cd76165e438"
      },
      "execution_count": null,
      "outputs": [
        {
          "output_type": "stream",
          "name": "stdout",
          "text": [
            "-25.424432, -49.26951\n"
          ]
        },
        {
          "output_type": "stream",
          "name": "stderr",
          "text": [
            "/tmp/ipython-input-986382892.py:12: DeprecationWarning: Using a driver after it has been closed is deprecated. Future versions of the driver will raise an error.\n",
            "  recordsBB, summaryBB, keysBB = driver.execute_query(\n"
          ]
        },
        {
          "output_type": "stream",
          "name": "stdout",
          "text": [
            "{'t': {'Marco': 'M120', 'latitude': -25.428189, 'longitude': -49.272135, 'Altitude': 909.924538}}\n",
            "{'t': {'Marco': 'M124', 'latitude': -25.424392, 'longitude': -49.270103, 'Altitude': 897.409912}}\n",
            "{'t': {'Marco': 'M125', 'latitude': -25.425468, 'longitude': -49.270405, 'Altitude': 901.231175}}\n",
            "{'t': {'Marco': 'M126', 'latitude': -25.426051, 'longitude': -49.270531, 'Altitude': 904.632185}}\n",
            "{'t': {'Marco': 'M127', 'latitude': -25.426976, 'longitude': -49.270777, 'Altitude': 908.067939}}\n",
            "{'t': {'Marco': 'M128', 'latitude': -25.428049, 'longitude': -49.271018, 'Altitude': 907.460932}}\n",
            "{'t': {'Marco': 'M132', 'latitude': -25.424432, 'longitude': -49.26951, 'Altitude': 897.439614}}\n",
            "{'t': {'Marco': 'M133', 'latitude': -25.425572, 'longitude': -49.269667, 'Altitude': 899.21001}}\n",
            "{'t': {'Marco': 'M134', 'latitude': -25.426255, 'longitude': -49.269574, 'Altitude': 901.102587}}\n",
            "{'t': {'Marco': 'M135', 'latitude': -25.42724, 'longitude': -49.269496, 'Altitude': 905.493292}}\n",
            "{'t': {'Marco': 'M136', 'latitude': -25.428381, 'longitude': -49.269351, 'Altitude': 905.312565}}\n",
            "{'t': {'Marco': 'M154', 'latitude': -25.426382, 'longitude': -49.268639, 'Altitude': 896.75548}}\n",
            "{'t': {'Marco': 'M155', 'latitude': -25.427394, 'longitude': -49.268539, 'Altitude': 898.184795}}\n",
            "{'t': {'Marco': 'M156', 'latitude': -25.428325, 'longitude': -49.268401, 'Altitude': 900.481513}}\n",
            "{'t': {'Marco': 'M171', 'latitude': -25.423553, 'longitude': -49.267826, 'Altitude': 897.374348}}\n",
            "{'t': {'Marco': 'M172', 'latitude': -25.422607, 'longitude': -49.266607, 'Altitude': 901.759154}}\n",
            "{'t': {'Marco': 'M173', 'latitude': -25.425176, 'longitude': -49.265995, 'Altitude': 896.399151}}\n",
            "{'t': {'Marco': 'M175', 'latitude': -25.426894, 'longitude': -49.266316, 'Altitude': 900.749873}}\n",
            "{'t': {'Marco': 'M176', 'latitude': -25.427989, 'longitude': -49.265884, 'Altitude': 895.999648}}\n",
            "{'t': {'Marco': 'M253', 'latitude': -25.424809, 'longitude': -49.26953, 'Altitude': 897.439614}}\n",
            "{'t': {'Marco': 'M254', 'latitude': -25.424361, 'longitude': -49.269065, 'Altitude': 897.439614}}\n",
            "{'t': {'Marco': 'M255', 'latitude': -25.424504, 'longitude': -49.268953, 'Altitude': 897.439614}}\n",
            "{'t': {'Marco': 'M256', 'latitude': -25.424221, 'longitude': -49.268883, 'Altitude': 897.439614}}\n",
            "{'t': {'Marco': 'M257', 'latitude': -25.428242, 'longitude': -49.272361, 'Altitude': 909.924538}}\n",
            "{'t': {'Marco': 'M258', 'latitude': -25.428147, 'longitude': -49.271999, 'Altitude': 909.924538}}\n"
          ]
        }
      ]
    },
    {
      "cell_type": "code",
      "source": [
        "#Passo 2\n",
        "\n",
        "Dis = []\n",
        "Ang = []\n",
        "idBB = []\n",
        "AltBB = []\n",
        "\n",
        "#Testa caminho até cada ponto\n",
        "for i in range(len(recordsBB)):\n",
        "\n",
        "  #Selecion a ponto final da trajetória\n",
        "  finish = str(recordsBB[i].data()['t']['latitude']) + ', ' + str(recordsBB[i].data()['t']['longitude'])\n",
        "  AltEnd = recordsBB[i].data()['t']['Altitude']\n",
        "  print(recordsBB[i].data()['t'])\n",
        "\n",
        "  #Retorna a trajetória entre os pontos\n",
        "  DataList1 = GetPolylineCoord1(start, finish)\n",
        "  pprint.pprint(DataList1)\n",
        "\n",
        "  #Verifica se a trajetória é válida\n",
        "  if len(DataList1)>1 and DataList1[0]<40:\n",
        "    del(DataList1[0])\n",
        "  if len(DataList1)>1 and DataList1[len(DataList1)-1]<40:\n",
        "    del(DataList1[len(DataList1)-1])\n",
        "  if len(DataList1)==1 and DataList1[0]!=0:\n",
        "    Plotagem = GetPolylineCoord(start, finish)\n",
        "    Dis.append(DataList1[0])\n",
        "    Ang.append(FindAngle(Plotagem[0],Plotagem[len(Plotagem)-1]))\n",
        "    idBB.append(recordsBB[i].data()['t']['Marco'])\n",
        "    AltBB.append(AltEnd)\n",
        "  else:\n",
        "    ;\n",
        "    #print(\"Error\")\n",
        "    #print(DataList1)\n",
        "\n",
        "#Coloca pontos em ordem crecente\n",
        "for i in range(len(Dis)):\n",
        "  j=i+1\n",
        "  while j < len(Dis):\n",
        "    if (Dis[i] > Dis[j]):\n",
        "      a =  Dis[i]\n",
        "      Dis[i] = Dis[j]\n",
        "      Dis[j] = a\n",
        "      b =  Ang[i]\n",
        "      Ang[i] = Ang[j]\n",
        "      Ang[j] = b\n",
        "      c =  idBB[i]\n",
        "      idBB[i] = idBB[j]\n",
        "      idBB[j] = c\n",
        "    j+=1\n",
        "print(Dis, Ang, AltEnd)"
      ],
      "metadata": {
        "colab": {
          "base_uri": "https://localhost:8080/"
        },
        "id": "YNsUMTcSoaiw",
        "outputId": "58e877c3-cd0a-4561-bf4d-c023be92aa5a",
        "collapsed": true
      },
      "execution_count": null,
      "outputs": [
        {
          "output_type": "stream",
          "name": "stdout",
          "text": [
            "{'Marco': 'M120', 'latitude': -25.428189, 'longitude': -49.272135, 'Altitude': 909.924538}\n",
            "[64, 378, 46, 94]\n",
            "{'Marco': 'M124', 'latitude': -25.424392, 'longitude': -49.270103, 'Altitude': 897.409912}\n",
            "[48, 12]\n",
            "{'Marco': 'M125', 'latitude': -25.425468, 'longitude': -49.270405, 'Altitude': 901.231175}\n",
            "[64, 126]\n",
            "{'Marco': 'M126', 'latitude': -25.426051, 'longitude': -49.270531, 'Altitude': 904.632185}\n",
            "[64, 191]\n",
            "{'Marco': 'M127', 'latitude': -25.426976, 'longitude': -49.270777, 'Altitude': 908.067939}\n",
            "[64, 299]\n",
            "{'Marco': 'M128', 'latitude': -25.428049, 'longitude': -49.271018, 'Altitude': 907.460932}\n",
            "[64, 420]\n",
            "{'Marco': 'M132', 'latitude': -25.424432, 'longitude': -49.26951, 'Altitude': 897.439614}\n",
            "[0]\n",
            "{'Marco': 'M133', 'latitude': -25.425572, 'longitude': -49.269667, 'Altitude': 899.21001}\n",
            "[122, 7]\n",
            "{'Marco': 'M134', 'latitude': -25.426255, 'longitude': -49.269574, 'Altitude': 901.102587}\n",
            "[122, 84]\n",
            "{'Marco': 'M135', 'latitude': -25.42724, 'longitude': -49.269496, 'Altitude': 905.493292}\n",
            "[122, 194]\n",
            "{'Marco': 'M136', 'latitude': -25.428381, 'longitude': -49.269351, 'Altitude': 905.312565}\n",
            "[122, 321]\n",
            "{'Marco': 'M154', 'latitude': -25.426382, 'longitude': -49.268639, 'Altitude': 896.75548}\n",
            "[45, 233]\n",
            "{'Marco': 'M155', 'latitude': -25.427394, 'longitude': -49.268539, 'Altitude': 898.184795}\n",
            "[45, 346]\n",
            "{'Marco': 'M156', 'latitude': -25.428325, 'longitude': -49.268401, 'Altitude': 900.481513}\n",
            "[45, 452]\n",
            "{'Marco': 'M171', 'latitude': -25.423553, 'longitude': -49.267826, 'Altitude': 897.374348}\n",
            "[69, 124, 18]\n",
            "{'Marco': 'M172', 'latitude': -25.422607, 'longitude': -49.266607, 'Altitude': 901.759154}\n",
            "[69, 290, 16, 3]\n",
            "{'Marco': 'M173', 'latitude': -25.425176, 'longitude': -49.265995, 'Altitude': 896.399151}\n",
            "[69, 290, 16, 159, 258]\n",
            "{'Marco': 'M175', 'latitude': -25.426894, 'longitude': -49.266316, 'Altitude': 900.749873}\n",
            "[45, 235, 244]\n",
            "{'Marco': 'M176', 'latitude': -25.427989, 'longitude': -49.265884, 'Altitude': 895.999648}\n",
            "[45, 235, 241, 132]\n",
            "{'Marco': 'M253', 'latitude': -25.424809, 'longitude': -49.26953, 'Altitude': 897.439614}\n",
            "[43]\n",
            "{'Marco': 'M254', 'latitude': -25.424361, 'longitude': -49.269065, 'Altitude': 897.439614}\n",
            "[45]\n",
            "{'Marco': 'M255', 'latitude': -25.424504, 'longitude': -49.268953, 'Altitude': 897.439614}\n",
            "[45, 22]\n",
            "{'Marco': 'M256', 'latitude': -25.424221, 'longitude': -49.268883, 'Altitude': 897.439614}\n",
            "[69]\n",
            "{'Marco': 'M257', 'latitude': -25.428242, 'longitude': -49.272361, 'Altitude': 909.924538}\n",
            "[64, 378, 46, 117]\n",
            "{'Marco': 'M258', 'latitude': -25.428147, 'longitude': -49.271999, 'Altitude': 909.924538}\n",
            "[64, 378, 46, 79]\n",
            "[43, 45, 45, 48, 69, 122] [85.4860115416345, 173.5169263068536, 170.36246188701273, 0.9548412538273118, 165.32360686257158, 82.50414236002072] 909.924538\n"
          ]
        }
      ]
    },
    {
      "cell_type": "code",
      "source": [
        "#Passo 3\n",
        "\n",
        "#Exclusão de ruas com mesma direção conforme limites de angulação\n",
        "c=0\n",
        "while c < len(Dis):\n",
        "  i=c+1\n",
        "  while i<len(Dis):\n",
        "    if Ang[i] < Ang[c]+15 and Ang[i] > Ang[c]-15:\n",
        "      Dis[i]=0\n",
        "    i+=1\n",
        "  c+=1\n",
        "print(Dis, Ang)\n",
        "i=0\n",
        "while Dis.count(0)>0:\n",
        "  if Dis[i]==0:\n",
        "    del(Dis[i])\n",
        "    del(Ang[i])\n",
        "    del(idBB[i])\n",
        "    del(AltBB[i])\n",
        "    i-=1\n",
        "  i+=1\n",
        "print(Dis, Ang, idBB, AltEnd)"
      ],
      "metadata": {
        "colab": {
          "base_uri": "https://localhost:8080/"
        },
        "id": "dwVh2b3srpgt",
        "outputId": "f09943f5-3abf-4118-d91e-ebc0be834023"
      },
      "execution_count": null,
      "outputs": [
        {
          "output_type": "stream",
          "name": "stdout",
          "text": [
            "[43, 45, 0, 48, 0, 0] [85.4860115416345, 173.5169263068536, 170.36246188701273, 0.9548412538273118, 165.32360686257158, 82.50414236002072]\n",
            "[43, 45, 48] [85.4860115416345, 173.5169263068536, 0.9548412538273118] ['M253', 'M254', 'M124'] 909.924538\n"
          ]
        }
      ]
    },
    {
      "cell_type": "code",
      "source": [
        "#Passo 4\n",
        "\n",
        "#Cria conexão entre pontos dentro do DB\n",
        "print(id0,idBB,Dis,Ang)\n",
        "for i in range(len(Dis)):\n",
        "  recordsBB, summaryBB, keysBB = driver.execute_query(\"\"\"\n",
        "      MATCH (c1:Esquina {Marco: $c1})\n",
        "      MATCH (c2:Esquina {Marco: $c2})\n",
        "      CREATE (c1)-[:Conects {Distance: $dis, Angle: $ang, Inclination: $Alt100}]->(c2)\n",
        "      \"\"\", c1=id0, c2=idBB[i],dis=Dis[i], ang=Ang[i], Alt100=(AltBB[i]-Alt0)*100/Dis[i],\n",
        "      database_=\"neo4j\",\n",
        ")"
      ],
      "metadata": {
        "colab": {
          "base_uri": "https://localhost:8080/"
        },
        "id": "YNpiWyj-tAFs",
        "outputId": "78b1c537-3435-4dbb-ff76-5ed57c70f2f1"
      },
      "execution_count": null,
      "outputs": [
        {
          "output_type": "stream",
          "name": "stdout",
          "text": [
            "M132 ['M253', 'M254', 'M124'] [43, 45, 48] [85.4860115416345, 173.5169263068536, 0.9548412538273118]\n"
          ]
        },
        {
          "output_type": "stream",
          "name": "stderr",
          "text": [
            "/tmp/ipython-input-2564423952.py:6: DeprecationWarning: Using a driver after it has been closed is deprecated. Future versions of the driver will raise an error.\n",
            "  recordsBB, summaryBB, keysBB = driver.execute_query(\"\"\"\n"
          ]
        }
      ]
    },
    {
      "cell_type": "code",
      "source": [
        "#Script para executar todo o banco (Formato Marco)\n",
        "for neo in range(len(records)):\n",
        "  start = str(records[neo].data()['n']['latitude']) + ', ' + str(records[neo].data()['n']['longitude'])\n",
        "  id0 = records[neo].data()['n']['Marco']\n",
        "  Alt0 = records[constant].data()['n']['Altitude']\n",
        "  #print(start)\n",
        "\n",
        "  recordsBB, summaryBB, keysBB = driver.execute_query(\n",
        "      \"\"\"\n",
        "      MATCH (corner:Esquina)\n",
        "      WHERE corner.Marco = $id\n",
        "\n",
        "      WITH\n",
        "        point({longitude: corner.longitude-0.004, latitude: corner.latitude-0.004}) AS lowerLeft,\n",
        "        point({longitude: corner.longitude+0.004, latitude: corner.latitude+0.004}) AS upperRight\n",
        "      MATCH (t:Esquina)\n",
        "      WHERE point.withinBBox(point({longitude: t.longitude, latitude: t.latitude}), lowerLeft, upperRight)\n",
        "      RETURN t\"\"\",\n",
        "      id=id0,\n",
        "      database_=\"neo4j\",\n",
        "  )\n",
        "\n",
        "  Dis = []\n",
        "  Ang = []\n",
        "  idBB = []\n",
        "  AltBB = []\n",
        "\n",
        "\n",
        "  for i in range(len(recordsBB)):\n",
        "    finish = str(recordsBB[i].data()['t']['latitude']) + ', ' + str(recordsBB[i].data()['t']['longitude'])\n",
        "    AltEnd = recordsBB[i].data()['t']['Altitude']\n",
        "\n",
        "\n",
        "    DataList1 = GetPolylineCoord1(start, finish)\n",
        "    #pprint.pprint(DataList1)\n",
        "\n",
        "\n",
        "    if len(DataList1)>1 and DataList1[0]<40:\n",
        "      del(DataList1[0])\n",
        "    if len(DataList1)>1 and DataList1[len(DataList1)-1]<40:\n",
        "      del(DataList1[len(DataList1)-1])\n",
        "    if len(DataList1)==1 and DataList1[0]!=0:\n",
        "      Plotagem = GetPolylineCoord(start, finish)\n",
        "      Dis.append(DataList1[0])\n",
        "      Ang.append(FindAngle(Plotagem[0],Plotagem[len(Plotagem)-1]))\n",
        "      idBB.append(recordsBB[i].data()['t']['Marco'])\n",
        "      AltBB.append(AltEnd)\n",
        "    else:\n",
        "      ;\n",
        "      #print(\"Error\")\n",
        "      #print(DataList1)\n",
        "\n",
        "  for i in range(len(Dis)):\n",
        "    j=i+1\n",
        "    while j < len(Dis):\n",
        "      if (Dis[i] > Dis[j]):\n",
        "        a =  Dis[i]\n",
        "        Dis[i] = Dis[j]\n",
        "        Dis[j] = a\n",
        "        b =  Ang[i]\n",
        "        Ang[i] = Ang[j]\n",
        "        Ang[j] = b\n",
        "        c =  idBB[i]\n",
        "        idBB[i] = idBB[j]\n",
        "        idBB[j] = c\n",
        "      j+=1\n",
        "  #print(Dis, Ang, AltEnd)\n",
        "\n",
        "  c=0\n",
        "  while c < len(Dis):\n",
        "    i=c+1\n",
        "    while i<len(Dis):\n",
        "      if Ang[i] < Ang[c]+15 and Ang[i] > Ang[c]-15:\n",
        "        Dis[i]=0\n",
        "      i+=1\n",
        "    c+=1\n",
        "  #print(Dis, Ang)\n",
        "  i=0\n",
        "  while Dis.count(0)>0:\n",
        "    if Dis[i]==0:\n",
        "      del(Dis[i])\n",
        "      del(Ang[i])\n",
        "      del(idBB[i])\n",
        "      del(AltBB[i])\n",
        "      i-=1\n",
        "    i+=1\n",
        "  #print(Dis, Ang, idBB, AltEnd)\n",
        "\n",
        "  #print(id0,idBB,Dis,Ang)\n",
        "  for i in range(len(Dis)):\n",
        "    recordsBB, summaryBB, keysBB = driver.execute_query(\"\"\"\n",
        "        MATCH (c1:Esquina {Marco: $c1})\n",
        "        MATCH (c2:Esquina {Marco: $c2})\n",
        "        CREATE (c1)-[:Conects {Distance: $dis, Angle: $ang, Inclination: $Alt100}]->(c2)\n",
        "        \"\"\", c1=id0, c2=idBB[i],dis=Dis[i], ang=Ang[i], Alt100=(AltBB[i]-Alt0)*100/Dis[i],\n",
        "        database_=\"neo4j\",\n",
        "  )\n"
      ],
      "metadata": {
        "colab": {
          "base_uri": "https://localhost:8080/"
        },
        "id": "LBmL2UV5NC6U",
        "outputId": "85597afd-5fa4-46ee-96d9-3747e0f42953",
        "collapsed": true
      },
      "execution_count": null,
      "outputs": [
        {
          "output_type": "stream",
          "name": "stderr",
          "text": [
            "/tmp/ipython-input-4003906616.py:10: DeprecationWarning: Using a driver after it has been closed is deprecated. Future versions of the driver will raise an error.\n",
            "  recordsBB, summaryBB, keysBB = driver.execute_query(\n",
            "/tmp/ipython-input-4003906616.py:93: DeprecationWarning: Using a driver after it has been closed is deprecated. Future versions of the driver will raise an error.\n",
            "  recordsBB, summaryBB, keysBB = driver.execute_query(\"\"\"\n"
          ]
        }
      ]
    },
    {
      "cell_type": "code",
      "source": [
        "#Script para executar todo o banco (Formato Corner)\n",
        "for neo in range(len(records)):\n",
        "  start = str(records[neo].data()['n']['latitude']) + ', ' + str(records[neo].data()['n']['longitude'])\n",
        "  id0 = records[neo].data()['n']['id']\n",
        "  print(start)\n",
        "\n",
        "  recordsBB, summaryBB, keysBB = driver.execute_query(\n",
        "      \"\"\"\n",
        "      MATCH (corner:Corner)\n",
        "      WHERE corner.id = $id\n",
        "\n",
        "      WITH\n",
        "        point({longitude: corner.longitude-0.004, latitude: corner.latitude-0.004}) AS lowerLeft,\n",
        "        point({longitude: corner.longitude+0.004, latitude: corner.latitude+0.004}) AS upperRight\n",
        "      MATCH (t:Corner)\n",
        "      WHERE point.withinBBox(point({longitude: t.longitude, latitude: t.latitude}), lowerLeft, upperRight)\n",
        "      RETURN t\"\"\",\n",
        "      id=id0,\n",
        "      database_=\"neo4j\",\n",
        "  )\n",
        "\n",
        "  Dis = []\n",
        "  Ang = []\n",
        "  idBB = []\n",
        "\n",
        "\n",
        "  for i in range(len(recordsBB)-1):\n",
        "    finish = str(recordsBB[i].data()['t']['latitude']) + ', ' + str(recordsBB[i].data()['t']['longitude'])\n",
        "\n",
        "\n",
        "\n",
        "    DataList1 = GetPolylineCoord1(start, finish)\n",
        "    #pprint.pprint(DataList1)\n",
        "\n",
        "\n",
        "    if len(DataList1)>1 and DataList1[0]<10:\n",
        "        del(DataList1[0])\n",
        "    if len(DataList1)>1 and DataList1[len(DataList1)-1]<10:\n",
        "        del(DataList1[len(DataList1)-1])\n",
        "    if len(DataList1)==1 and DataList1[0]!=0:\n",
        "      Plotagem = GetPolylineCoord(start, finish)\n",
        "      Dis.append(DataList1[0])\n",
        "      Ang.append(FindAngle(Plotagem[0],Plotagem[len(Plotagem)-1]))\n",
        "      idBB.append(recordsBB[i].data()['t']['id'])\n",
        "    else:\n",
        "      ;\n",
        "      #print(\"Error\")\n",
        "      #print(DataList1)\n",
        "\n",
        "  for i in range(len(Dis)):\n",
        "    j=i+1\n",
        "    while j < len(Dis):\n",
        "      if (Dis[i] > Dis[j]):\n",
        "        a =  Dis[i]\n",
        "        Dis[i] = Dis[j]\n",
        "        Dis[j] = a\n",
        "        b =  Ang[i]\n",
        "        Ang[i] = Ang[j]\n",
        "        Ang[j] = b\n",
        "        c =  idBB[i]\n",
        "        idBB[i] = idBB[j]\n",
        "        idBB[j] = c\n",
        "      j+=1\n",
        "  #print(Dis, Ang)\n",
        "\n",
        "  c=0\n",
        "  while Dis.count(0) < len(Dis)-c:\n",
        "    i=c+1\n",
        "    while i<len(Dis):\n",
        "      if Ang[i] < Ang[c]+15 and Ang[i] > Ang[c]-15:\n",
        "        Dis[i]=0\n",
        "      i+=1\n",
        "    c+=1\n",
        "  #print(Dis, Ang)\n",
        "  i=0\n",
        "  while Dis.count(0)>0:\n",
        "    if Dis[i]==0:\n",
        "      del(Dis[i])\n",
        "      del(Ang[i])\n",
        "      del(idBB[i])\n",
        "      i-=1\n",
        "    i+=1\n",
        "  #print(id0,idBB,Dis,Ang)\n",
        "\n",
        "\n",
        "  for i in range(len(Dis)):\n",
        "    recordsBB, summaryBB, keysBB = driver.execute_query(\"\"\"\n",
        "        MATCH (c1:Corner {id: $c1})\n",
        "        MATCH (c2:Corner {id: $c2})\n",
        "        CREATE (c1)-[:Conects {Distance: $dis, Angle: $ang}]->(c2)\n",
        "        \"\"\", c1=id0, c2=idBB[i],dis=Dis[i], ang=Ang[i],\n",
        "        database_=\"neo4j\",\n",
        "    )\n"
      ],
      "metadata": {
        "colab": {
          "base_uri": "https://localhost:8080/",
          "height": 211
        },
        "id": "TGGBbZthQWkt",
        "outputId": "a2645a37-ab13-41e7-b41b-a36bea52e9b0"
      },
      "execution_count": null,
      "outputs": [
        {
          "output_type": "error",
          "ename": "KeyError",
          "evalue": "'id'",
          "traceback": [
            "\u001b[0;31m---------------------------------------------------------------------------\u001b[0m",
            "\u001b[0;31mKeyError\u001b[0m                                  Traceback (most recent call last)",
            "\u001b[0;32m<ipython-input-29-740ff4f2db9f>\u001b[0m in \u001b[0;36m<cell line: 3>\u001b[0;34m()\u001b[0m\n\u001b[1;32m      3\u001b[0m \u001b[0;32mfor\u001b[0m \u001b[0mneo\u001b[0m \u001b[0;32min\u001b[0m \u001b[0mrange\u001b[0m\u001b[0;34m(\u001b[0m\u001b[0mlen\u001b[0m\u001b[0;34m(\u001b[0m\u001b[0mrecords\u001b[0m\u001b[0;34m)\u001b[0m\u001b[0;34m)\u001b[0m\u001b[0;34m:\u001b[0m\u001b[0;34m\u001b[0m\u001b[0;34m\u001b[0m\u001b[0m\n\u001b[1;32m      4\u001b[0m   \u001b[0mstart\u001b[0m \u001b[0;34m=\u001b[0m \u001b[0mstr\u001b[0m\u001b[0;34m(\u001b[0m\u001b[0mrecords\u001b[0m\u001b[0;34m[\u001b[0m\u001b[0mneo\u001b[0m\u001b[0;34m]\u001b[0m\u001b[0;34m.\u001b[0m\u001b[0mdata\u001b[0m\u001b[0;34m(\u001b[0m\u001b[0;34m)\u001b[0m\u001b[0;34m[\u001b[0m\u001b[0;34m'n'\u001b[0m\u001b[0;34m]\u001b[0m\u001b[0;34m[\u001b[0m\u001b[0;34m'Latitude'\u001b[0m\u001b[0;34m]\u001b[0m\u001b[0;34m)\u001b[0m \u001b[0;34m+\u001b[0m \u001b[0;34m', '\u001b[0m \u001b[0;34m+\u001b[0m \u001b[0mstr\u001b[0m\u001b[0;34m(\u001b[0m\u001b[0mrecords\u001b[0m\u001b[0;34m[\u001b[0m\u001b[0mneo\u001b[0m\u001b[0;34m]\u001b[0m\u001b[0;34m.\u001b[0m\u001b[0mdata\u001b[0m\u001b[0;34m(\u001b[0m\u001b[0;34m)\u001b[0m\u001b[0;34m[\u001b[0m\u001b[0;34m'n'\u001b[0m\u001b[0;34m]\u001b[0m\u001b[0;34m[\u001b[0m\u001b[0;34m'Longitude'\u001b[0m\u001b[0;34m]\u001b[0m\u001b[0;34m)\u001b[0m\u001b[0;34m\u001b[0m\u001b[0;34m\u001b[0m\u001b[0m\n\u001b[0;32m----> 5\u001b[0;31m   \u001b[0mid0\u001b[0m \u001b[0;34m=\u001b[0m \u001b[0mrecords\u001b[0m\u001b[0;34m[\u001b[0m\u001b[0mneo\u001b[0m\u001b[0;34m]\u001b[0m\u001b[0;34m.\u001b[0m\u001b[0mdata\u001b[0m\u001b[0;34m(\u001b[0m\u001b[0;34m)\u001b[0m\u001b[0;34m[\u001b[0m\u001b[0;34m'n'\u001b[0m\u001b[0;34m]\u001b[0m\u001b[0;34m[\u001b[0m\u001b[0;34m'id'\u001b[0m\u001b[0;34m]\u001b[0m\u001b[0;34m\u001b[0m\u001b[0;34m\u001b[0m\u001b[0m\n\u001b[0m\u001b[1;32m      6\u001b[0m   \u001b[0mprint\u001b[0m\u001b[0;34m(\u001b[0m\u001b[0mstart\u001b[0m\u001b[0;34m)\u001b[0m\u001b[0;34m\u001b[0m\u001b[0;34m\u001b[0m\u001b[0m\n\u001b[1;32m      7\u001b[0m \u001b[0;34m\u001b[0m\u001b[0m\n",
            "\u001b[0;31mKeyError\u001b[0m: 'id'"
          ]
        }
      ]
    },
    {
      "cell_type": "code",
      "source": [
        "records[0].data()['n']\n"
      ],
      "metadata": {
        "colab": {
          "base_uri": "https://localhost:8080/"
        },
        "id": "opz6VqTwH9CZ",
        "outputId": "ad56b155-4fbb-4c61-9a32-f8606f432c20"
      },
      "execution_count": null,
      "outputs": [
        {
          "output_type": "execute_result",
          "data": {
            "text/plain": [
              "{'latitude': -25.4172928, 'id': 267189685.0, 'longitude': -49.2491956}"
            ]
          },
          "metadata": {},
          "execution_count": 39
        }
      ]
    },
    {
      "cell_type": "code",
      "source": [
        "#Teste BBox\n",
        "start = str(records[0].data()['n']['latitude']) + ', ' + str(records[0].data()['n']['longitude'])\n",
        "id0 = records[0].data()['n']['id']\n",
        "print(start)\n",
        "\n",
        "recordsBB, summaryBB, keysBB = driver.execute_query(\n",
        "    \"\"\"\n",
        "    MATCH (corner:Corner)\n",
        "    WHERE corner.id = $id\n",
        "\n",
        "    WITH\n",
        "      point({longitude: corner.longitude-0.005, latitude: corner.latitude-0.005}) AS lowerLeft,\n",
        "      point({longitude: corner.longitude+0.005, latitude: corner.latitude+0.005}) AS upperRight\n",
        "    MATCH (t:Corner)\n",
        "    WHERE point.withinBBox(point({longitude: t.longitude, latitude: t.latitude}), lowerLeft, upperRight)\n",
        "    RETURN t\"\"\",\n",
        "    id=records[0].data()['n']['id'],\n",
        "    database_=\"neo4j\",\n",
        ")"
      ],
      "metadata": {
        "colab": {
          "base_uri": "https://localhost:8080/"
        },
        "id": "u8fHeTuSJdzM",
        "outputId": "305d329d-2639-4157-b956-1f1a546f4585"
      },
      "execution_count": null,
      "outputs": [
        {
          "output_type": "stream",
          "name": "stdout",
          "text": [
            "-25.4172928, -49.2491956\n"
          ]
        },
        {
          "output_type": "stream",
          "name": "stderr",
          "text": [
            "<ipython-input-165-3a89d1a8db90>:7: DeprecationWarning: Using a driver after it has been closed is deprecated. Future versions of the driver will raise an error.\n",
            "  recordsBB, summaryBB, keysBB = driver.execute_query(\n"
          ]
        }
      ]
    },
    {
      "cell_type": "code",
      "source": [
        "#Retorno BBox\n",
        "for i in range(len(recordsBB)-1):\n",
        "    print(recordsBB[i].data()['t'])"
      ],
      "metadata": {
        "colab": {
          "base_uri": "https://localhost:8080/"
        },
        "id": "pJGp31ZoLhj0",
        "outputId": "5c672495-c195-4dec-b299-5c90683a2636"
      },
      "execution_count": null,
      "outputs": [
        {
          "output_type": "stream",
          "name": "stdout",
          "text": [
            "{'Marco': 'M1', 'latitude': -25.429293, 'longitude': -49.285918, 'Altitude': 909.751469}\n",
            "{'Marco': 'M2', 'latitude': -25.430102, 'longitude': -49.285575, 'Altitude': 910.09877}\n",
            "{'Marco': 'M3', 'latitude': -25.430902, 'longitude': -49.285244, 'Altitude': 910.62372}\n",
            "{'Marco': 'M4', 'latitude': -25.432061, 'longitude': -49.284665, 'Altitude': 912.715663}\n",
            "{'Marco': 'M5', 'latitude': -25.433292, 'longitude': -49.284117, 'Altitude': 913.445052}\n",
            "{'Marco': 'M15', 'latitude': -25.429645, 'longitude': -49.284107, 'Altitude': 904.986669}\n",
            "{'Marco': 'M16', 'latitude': -25.430347, 'longitude': -49.283776, 'Altitude': 906.25696}\n",
            "{'Marco': 'M17', 'latitude': -25.431, 'longitude': -49.28348, 'Altitude': 907.588048}\n",
            "{'Marco': 'M18', 'latitude': -25.43153, 'longitude': -49.283246, 'Altitude': 908.668013}\n",
            "{'Marco': 'M19', 'latitude': -25.432729, 'longitude': -49.28267, 'Altitude': 909.506284}\n",
            "{'Marco': 'M20', 'latitude': -25.433891, 'longitude': -49.282104, 'Altitude': 906.652155}\n",
            "{'Marco': 'M28', 'latitude': -25.429943, 'longitude': -49.282613, 'Altitude': 903.932024}\n",
            "{'Marco': 'M29', 'latitude': -25.43048, 'longitude': -49.282382, 'Altitude': 904.70344}\n",
            "{'Marco': 'M30', 'latitude': -25.431095, 'longitude': -49.282066, 'Altitude': 904.735124}\n",
            "{'Marco': 'M31', 'latitude': -25.43226, 'longitude': -49.281493, 'Altitude': 906.018876}\n",
            "{'Marco': 'M32', 'latitude': -25.433428, 'longitude': -49.280927, 'Altitude': 904.56366}\n",
            "{'Marco': 'M33', 'latitude': -25.430665, 'longitude': -49.280867, 'Altitude': 901.940099}\n",
            "{'Marco': 'M34', 'latitude': -25.431798, 'longitude': -49.280304, 'Altitude': 903.457845}\n",
            "{'Marco': 'M35', 'latitude': -25.43295, 'longitude': -49.279745, 'Altitude': 903.921115}\n",
            "{'Marco': 'M46', 'latitude': -25.430078, 'longitude': -49.279192, 'Altitude': 904.547499}\n",
            "{'Marco': 'M47', 'latitude': -25.431099, 'longitude': -49.278643, 'Altitude': 900.22677}\n"
          ]
        }
      ]
    },
    {
      "cell_type": "code",
      "source": [
        "#Teste Exclusão BBox\n",
        "Dis = []\n",
        "Ang = []\n",
        "idBB = []\n",
        "\n",
        "\n",
        "for i in range(len(recordsBB)-1):\n",
        "  finish = str(recordsBB[i].data()['t']['latitude']) + ', ' + str(recordsBB[i].data()['t']['longitude'])\n",
        "\n",
        "\n",
        "\n",
        "  DataList1 = GetPolylineCoord1(start, finish)\n",
        "  pprint.pprint(DataList1)\n",
        "\n",
        "\n",
        "  if len(DataList1)>1 and DataList1[0]<10:\n",
        "      del(DataList1[0])\n",
        "  if len(DataList1)>1 and DataList1[len(DataList1)-1]<10:\n",
        "      del(DataList1[len(DataList1)-1])\n",
        "  if len(DataList1)==1 and DataList1[0]!=0:\n",
        "    Plotagem = GetPolylineCoord(start, finish)\n",
        "    Dis.append(DataList1[0])\n",
        "    Ang.append(FindAngle(Plotagem[0],Plotagem[len(Plotagem)-1]))\n",
        "    idBB.append(recordsBB[i].data()['t']['id'])\n",
        "  else:\n",
        "    ;\n",
        "    #print(\"Error\")\n",
        "    #print(DataList1)\n",
        "\n",
        "print(Dis, Ang)"
      ],
      "metadata": {
        "colab": {
          "base_uri": "https://localhost:8080/"
        },
        "id": "kM4EUCxSMO3b",
        "outputId": "afb5cd52-6a58-44cb-ad4c-f932074ae33a"
      },
      "execution_count": null,
      "outputs": [
        {
          "output_type": "stream",
          "name": "stdout",
          "text": [
            "{'error_message': 'You must enable Billing on the Google Cloud Project at '\n",
            "                  'https://console.cloud.google.com/project/_/billing/enable '\n",
            "                  'Learn more at '\n",
            "                  'https://developers.google.com/maps/gmp-get-started',\n",
            " 'routes': [],\n",
            " 'status': 'REQUEST_DENIED'}\n",
            "0\n",
            "{'error_message': 'You must enable Billing on the Google Cloud Project at '\n",
            "                  'https://console.cloud.google.com/project/_/billing/enable '\n",
            "                  'Learn more at '\n",
            "                  'https://developers.google.com/maps/gmp-get-started',\n",
            " 'routes': [],\n",
            " 'status': 'REQUEST_DENIED'}\n",
            "0\n",
            "{'error_message': 'You must enable Billing on the Google Cloud Project at '\n",
            "                  'https://console.cloud.google.com/project/_/billing/enable '\n",
            "                  'Learn more at '\n",
            "                  'https://developers.google.com/maps/gmp-get-started',\n",
            " 'routes': [],\n",
            " 'status': 'REQUEST_DENIED'}\n",
            "0\n",
            "{'error_message': 'You must enable Billing on the Google Cloud Project at '\n",
            "                  'https://console.cloud.google.com/project/_/billing/enable '\n",
            "                  'Learn more at '\n",
            "                  'https://developers.google.com/maps/gmp-get-started',\n",
            " 'routes': [],\n",
            " 'status': 'REQUEST_DENIED'}\n",
            "0\n",
            "{'error_message': 'You must enable Billing on the Google Cloud Project at '\n",
            "                  'https://console.cloud.google.com/project/_/billing/enable '\n",
            "                  'Learn more at '\n",
            "                  'https://developers.google.com/maps/gmp-get-started',\n",
            " 'routes': [],\n",
            " 'status': 'REQUEST_DENIED'}\n",
            "0\n",
            "{'error_message': 'You must enable Billing on the Google Cloud Project at '\n",
            "                  'https://console.cloud.google.com/project/_/billing/enable '\n",
            "                  'Learn more at '\n",
            "                  'https://developers.google.com/maps/gmp-get-started',\n",
            " 'routes': [],\n",
            " 'status': 'REQUEST_DENIED'}\n",
            "0\n",
            "{'error_message': 'You must enable Billing on the Google Cloud Project at '\n",
            "                  'https://console.cloud.google.com/project/_/billing/enable '\n",
            "                  'Learn more at '\n",
            "                  'https://developers.google.com/maps/gmp-get-started',\n",
            " 'routes': [],\n",
            " 'status': 'REQUEST_DENIED'}\n",
            "0\n",
            "{'error_message': 'You must enable Billing on the Google Cloud Project at '\n",
            "                  'https://console.cloud.google.com/project/_/billing/enable '\n",
            "                  'Learn more at '\n",
            "                  'https://developers.google.com/maps/gmp-get-started',\n",
            " 'routes': [],\n",
            " 'status': 'REQUEST_DENIED'}\n",
            "0\n",
            "{'error_message': 'You must enable Billing on the Google Cloud Project at '\n",
            "                  'https://console.cloud.google.com/project/_/billing/enable '\n",
            "                  'Learn more at '\n",
            "                  'https://developers.google.com/maps/gmp-get-started',\n",
            " 'routes': [],\n",
            " 'status': 'REQUEST_DENIED'}\n",
            "0\n",
            "{'error_message': 'You must enable Billing on the Google Cloud Project at '\n",
            "                  'https://console.cloud.google.com/project/_/billing/enable '\n",
            "                  'Learn more at '\n",
            "                  'https://developers.google.com/maps/gmp-get-started',\n",
            " 'routes': [],\n",
            " 'status': 'REQUEST_DENIED'}\n",
            "0\n",
            "{'error_message': 'You must enable Billing on the Google Cloud Project at '\n",
            "                  'https://console.cloud.google.com/project/_/billing/enable '\n",
            "                  'Learn more at '\n",
            "                  'https://developers.google.com/maps/gmp-get-started',\n",
            " 'routes': [],\n",
            " 'status': 'REQUEST_DENIED'}\n",
            "0\n",
            "{'error_message': 'You must enable Billing on the Google Cloud Project at '\n",
            "                  'https://console.cloud.google.com/project/_/billing/enable '\n",
            "                  'Learn more at '\n",
            "                  'https://developers.google.com/maps/gmp-get-started',\n",
            " 'routes': [],\n",
            " 'status': 'REQUEST_DENIED'}\n",
            "0\n",
            "{'error_message': 'You must enable Billing on the Google Cloud Project at '\n",
            "                  'https://console.cloud.google.com/project/_/billing/enable '\n",
            "                  'Learn more at '\n",
            "                  'https://developers.google.com/maps/gmp-get-started',\n",
            " 'routes': [],\n",
            " 'status': 'REQUEST_DENIED'}\n",
            "0\n",
            "{'error_message': 'You must enable Billing on the Google Cloud Project at '\n",
            "                  'https://console.cloud.google.com/project/_/billing/enable '\n",
            "                  'Learn more at '\n",
            "                  'https://developers.google.com/maps/gmp-get-started',\n",
            " 'routes': [],\n",
            " 'status': 'REQUEST_DENIED'}\n",
            "0\n",
            "{'error_message': 'You must enable Billing on the Google Cloud Project at '\n",
            "                  'https://console.cloud.google.com/project/_/billing/enable '\n",
            "                  'Learn more at '\n",
            "                  'https://developers.google.com/maps/gmp-get-started',\n",
            " 'routes': [],\n",
            " 'status': 'REQUEST_DENIED'}\n",
            "0\n",
            "{'error_message': 'You must enable Billing on the Google Cloud Project at '\n",
            "                  'https://console.cloud.google.com/project/_/billing/enable '\n",
            "                  'Learn more at '\n",
            "                  'https://developers.google.com/maps/gmp-get-started',\n",
            " 'routes': [],\n",
            " 'status': 'REQUEST_DENIED'}\n",
            "0\n",
            "{'error_message': 'You must enable Billing on the Google Cloud Project at '\n",
            "                  'https://console.cloud.google.com/project/_/billing/enable '\n",
            "                  'Learn more at '\n",
            "                  'https://developers.google.com/maps/gmp-get-started',\n",
            " 'routes': [],\n",
            " 'status': 'REQUEST_DENIED'}\n",
            "0\n",
            "{'error_message': 'You must enable Billing on the Google Cloud Project at '\n",
            "                  'https://console.cloud.google.com/project/_/billing/enable '\n",
            "                  'Learn more at '\n",
            "                  'https://developers.google.com/maps/gmp-get-started',\n",
            " 'routes': [],\n",
            " 'status': 'REQUEST_DENIED'}\n",
            "0\n",
            "{'error_message': 'You must enable Billing on the Google Cloud Project at '\n",
            "                  'https://console.cloud.google.com/project/_/billing/enable '\n",
            "                  'Learn more at '\n",
            "                  'https://developers.google.com/maps/gmp-get-started',\n",
            " 'routes': [],\n",
            " 'status': 'REQUEST_DENIED'}\n",
            "0\n",
            "{'error_message': 'You must enable Billing on the Google Cloud Project at '\n",
            "                  'https://console.cloud.google.com/project/_/billing/enable '\n",
            "                  'Learn more at '\n",
            "                  'https://developers.google.com/maps/gmp-get-started',\n",
            " 'routes': [],\n",
            " 'status': 'REQUEST_DENIED'}\n",
            "0\n",
            "{'error_message': 'You must enable Billing on the Google Cloud Project at '\n",
            "                  'https://console.cloud.google.com/project/_/billing/enable '\n",
            "                  'Learn more at '\n",
            "                  'https://developers.google.com/maps/gmp-get-started',\n",
            " 'routes': [],\n",
            " 'status': 'REQUEST_DENIED'}\n",
            "0\n"
          ]
        }
      ]
    },
    {
      "cell_type": "markdown",
      "source": [],
      "metadata": {
        "id": "qBDox_A8Myu9"
      }
    },
    {
      "cell_type": "code",
      "source": [
        "#Teste Exclusão BBox Parte 2\n",
        "for i in range(len(Dis)):\n",
        "  j=i+1\n",
        "  while j < len(Dis):\n",
        "    if (Dis[i] > Dis[j]):\n",
        "      a =  Dis[i]\n",
        "      Dis[i] = Dis[j]\n",
        "      Dis[j] = a\n",
        "      b =  Ang[i]\n",
        "      Ang[i] = Ang[j]\n",
        "      Ang[j] = b\n",
        "      c =  idBB[i]\n",
        "      idBB[i] = idBB[j]\n",
        "      idBB[j] = c\n",
        "    j+=1\n",
        "print(Dis, Ang)\n",
        "\n",
        "c=0\n",
        "while Dis.count(0) < len(Dis)-c:\n",
        "  i=c+1\n",
        "  while i<len(Dis):\n",
        "    if Ang[i] < Ang[c]+10 and Ang[i] > Ang[c]-10:\n",
        "      Dis[i]=0\n",
        "    i+=1\n",
        "  c+=1\n",
        "print(Dis, Ang)\n",
        "\n"
      ],
      "metadata": {
        "colab": {
          "base_uri": "https://localhost:8080/"
        },
        "id": "l_Cv9rYNaTSJ",
        "outputId": "19bc5599-eb17-4101-bfd9-d01701edcb5e"
      },
      "execution_count": null,
      "outputs": [
        {
          "output_type": "stream",
          "name": "stdout",
          "text": [
            "[64, 74, 74, 125, 142, 155, 177, 180, 190, 190, 194, 254, 259, 263, 304, 348, 381, 430, 499] [85.07289005218281, 175.30131948258293, 175.30131948258293, 175.38935068133412, 84.60225122371475, 86.29537255790925, 90.0, 175.20986927759074, 89.65691560061076, 89.6589577212753, 175.2363583092388, 175.236358309207, 83.3046172230792, 88.52489819919698, 175.2521118913375, 175.36007741056366, 175.2992515655437, 175.30314955102708, 175.25555609023718]\n",
            "[64, 74, 0, 0, 0, 0, 0, 0, 0, 0, 0, 0, 0, 0, 0, 0, 0, 0, 0] [85.07289005218281, 175.30131948258293, 175.30131948258293, 175.38935068133412, 84.60225122371475, 86.29537255790925, 90.0, 175.20986927759074, 89.65691560061076, 89.6589577212753, 175.2363583092388, 175.236358309207, 83.3046172230792, 88.52489819919698, 175.2521118913375, 175.36007741056366, 175.2992515655437, 175.30314955102708, 175.25555609023718]\n"
          ]
        }
      ]
    },
    {
      "cell_type": "code",
      "source": [
        "#Teste Exclusão BBox Parte 3\n",
        "i=0\n",
        "while Dis.count(0)>0:\n",
        "  if Dis[i]==0:\n",
        "    del(Dis[i])\n",
        "    del(Ang[i])\n",
        "    del(idBB[i])\n",
        "    i-=1\n",
        "  i+=1\n",
        "print(Dis, Ang, idBB)"
      ],
      "metadata": {
        "colab": {
          "base_uri": "https://localhost:8080/"
        },
        "id": "bp1tqOIBnfxr",
        "outputId": "d6551b9e-9730-467a-d2e7-47361b4c9d8b"
      },
      "execution_count": null,
      "outputs": [
        {
          "output_type": "stream",
          "name": "stdout",
          "text": [
            "[64, 74] [85.07289005218281, 175.30131948258293] [9037122908.0, 8498985433.0]\n"
          ]
        }
      ]
    },
    {
      "cell_type": "code",
      "source": [
        "#Teste Inclusão Neo4j\n",
        "for i in range(len(Dis)):\n",
        "  recordsBB, summaryBB, keysBB = driver.execute_query(\"\"\"\n",
        "      MATCH (c1:Corner {id: $c1})\n",
        "      MATCH (c2:Corner {id: $c2})\n",
        "      CREATE (c1)-[:Conects {Distance: $dis, Angle: $ang}]->(c2)\n",
        "      \"\"\", c1=id0, c2=idBB[i],dis=Dis[i], ang=Ang[i],\n",
        "      database_=\"neo4j\",\n",
        "  )"
      ],
      "metadata": {
        "colab": {
          "base_uri": "https://localhost:8080/"
        },
        "id": "mL_llsPYp-0P",
        "outputId": "596e69cd-0336-4c9a-8200-3a03c6a76528"
      },
      "execution_count": null,
      "outputs": [
        {
          "output_type": "stream",
          "name": "stderr",
          "text": [
            "<ipython-input-169-8fdd58d9f32e>:2: DeprecationWarning: Using a driver after it has been closed is deprecated. Future versions of the driver will raise an error.\n",
            "  recordsBB, summaryBB, keysBB = driver.execute_query(\"\"\"\n"
          ]
        }
      ]
    },
    {
      "cell_type": "code",
      "source": [
        "#Encontrar Arestas conectadas Neo4J\n",
        "def test_connection():\n",
        "    with driver.session() as session:\n",
        "        result = session.run(\"RETURN 'Conexão bem-sucedida!' as message\")\n",
        "        return result.single()[\"message\"]\n",
        "\n",
        "def count_relationships_simple(node_id):\n",
        "    with driver.session() as session:\n",
        "        result = session.run(\"\"\"\n",
        "            MATCH (a)-[r]->(b)\n",
        "            WHERE a.Marco = $node_id\n",
        "            RETURN count(r) as count\n",
        "        \"\"\", {\"node_id\": node_id})\n",
        "        return result.single()[\"count\"]\n",
        "\n",
        "# Testar\n",
        "try:\n",
        "    print(\"Testando conexão...\")\n",
        "    print(test_connection())\n",
        "\n",
        "    node_id = \"M22\"\n",
        "    count = count_relationships_simple(node_id)\n",
        "    print(f\"O nó {node_id} tem {count} arestas\")\n",
        "\n",
        "finally:\n",
        "    driver.close()"
      ],
      "metadata": {
        "colab": {
          "base_uri": "https://localhost:8080/"
        },
        "id": "5yU5esuT-BLi",
        "outputId": "34aee539-d75d-4d4b-d4cd-fcd5fe64fad6"
      },
      "execution_count": null,
      "outputs": [
        {
          "output_type": "stream",
          "name": "stdout",
          "text": [
            "Testando conexão...\n"
          ]
        },
        {
          "output_type": "stream",
          "name": "stderr",
          "text": [
            "/tmp/ipython-input-678502917.py:2: DeprecationWarning: Using a driver after it has been closed is deprecated. Future versions of the driver will raise an error.\n",
            "  with driver.session() as session:\n"
          ]
        },
        {
          "output_type": "stream",
          "name": "stdout",
          "text": [
            "Conexão bem-sucedida!\n",
            "O nó M22 tem 2 arestas\n"
          ]
        },
        {
          "output_type": "stream",
          "name": "stderr",
          "text": [
            "/tmp/ipython-input-678502917.py:7: DeprecationWarning: Using a driver after it has been closed is deprecated. Future versions of the driver will raise an error.\n",
            "  with driver.session() as session:\n"
          ]
        }
      ]
    },
    {
      "cell_type": "code",
      "source": [
        "#Detalhamento de Arestas NEO4J\n",
        "def get_connected_nodes(node_id):\n",
        "    \"\"\"\n",
        "    Retorna todos os nós conectados a um nó específico\n",
        "    \"\"\"\n",
        "    with driver.session() as session:\n",
        "        result = session.run(\"\"\"\n",
        "            MATCH (a:Esquina {Marco: $node_id})-[r]->(b)\n",
        "            RETURN\n",
        "                a.id as source_node,\n",
        "                type(r) as relationship_type,\n",
        "                b.id as target_node,\n",
        "                labels(b) as target_labels,\n",
        "                properties(b) as target_properties\n",
        "        \"\"\", {\"node_id\": node_id})\n",
        "\n",
        "        return [dict(record) for record in result]\n",
        "\n",
        "# Exemplo de uso\n",
        "try:\n",
        "    node_id = \"M22\"\n",
        "    connected_nodes = get_connected_nodes(node_id)\n",
        "\n",
        "    print(f\"Nós conectados ao nó {node_id}:\")\n",
        "    for connection in connected_nodes:\n",
        "        print(f\"• Relação: {connection['relationship_type']}\")\n",
        "        print(f\"  Nó conectado: {connection['target_node']}\")\n",
        "        print(f\"  Labels: {connection['target_labels']}\")\n",
        "        print(f\"  Propriedades: {connection['target_properties']}\")\n",
        "        print(\"---\")\n",
        "    print(connected_nodes)\n",
        "    print('\\n\\n')\n",
        "    print(connected_nodes[0]['target_properties']['Marco'])\n",
        "finally:\n",
        "    driver.close()"
      ],
      "metadata": {
        "colab": {
          "base_uri": "https://localhost:8080/"
        },
        "id": "nqQszdX6CV33",
        "outputId": "9a27af76-a77d-4a8c-87de-644eb04dae6e"
      },
      "execution_count": null,
      "outputs": [
        {
          "output_type": "stream",
          "name": "stdout",
          "text": [
            "Nós conectados ao nó M22:\n",
            "• Relação: Conects\n",
            "  Nó conectado: None\n",
            "  Labels: ['Esquina']\n",
            "  Propriedades: {'Altitude': 909.894556, 'Marco': 'M9', 'longitude': -49.280731, 'latitude': -25.437454}\n",
            "---\n",
            "• Relação: Conects\n",
            "  Nó conectado: None\n",
            "  Labels: ['Esquina']\n",
            "  Propriedades: {'Altitude': 910.17322, 'Marco': 'M23', 'longitude': -49.279156, 'latitude': -25.437304}\n",
            "---\n",
            "[{'source_node': None, 'relationship_type': 'Conects', 'target_node': None, 'target_labels': ['Esquina'], 'target_properties': {'Altitude': 909.894556, 'Marco': 'M9', 'longitude': -49.280731, 'latitude': -25.437454}}, {'source_node': None, 'relationship_type': 'Conects', 'target_node': None, 'target_labels': ['Esquina'], 'target_properties': {'Altitude': 910.17322, 'Marco': 'M23', 'longitude': -49.279156, 'latitude': -25.437304}}]\n",
            "\n",
            "\n",
            "\n",
            "M9\n"
          ]
        },
        {
          "output_type": "stream",
          "name": "stderr",
          "text": [
            "/tmp/ipython-input-1938597841.py:5: DeprecationWarning: Using a driver after it has been closed is deprecated. Future versions of the driver will raise an error.\n",
            "  with driver.session() as session:\n"
          ]
        }
      ]
    },
    {
      "cell_type": "code",
      "source": [
        "#Modificação de Arestas NEO4J\n",
        "def modificar_aresta_simples(source_id, target_id, rel_type, nova_propriedade, valor):\n",
        "    \"\"\"\n",
        "    Modifica uma aresta específica adicionando/alterando uma propriedade\n",
        "    \"\"\"\n",
        "    with driver.session() as session:\n",
        "        result = session.run(\"\"\"\n",
        "            MATCH (a:Esquina {Marco: $source_id})-[r:%s]->(b:Esquina {Marco: $target_id})\n",
        "            SET r.%s = $valor\n",
        "            RETURN r\n",
        "        \"\"\" % (rel_type, nova_propriedade), {\n",
        "            \"source_id\": source_id,\n",
        "            \"target_id\": target_id,\n",
        "            \"valor\": valor\n",
        "        })\n",
        "\n",
        "        print(\"✅ Aresta modificada com sucesso!\")\n",
        "\n",
        "# Exemplo de uso\n",
        "modificar_aresta_simples(\n",
        "    source_id=\"M22\",\n",
        "    target_id=\"M23\",\n",
        "    rel_type=\"Conects\",\n",
        "    nova_propriedade=\"Arvores\",\n",
        "    valor=6\n",
        ")"
      ],
      "metadata": {
        "colab": {
          "base_uri": "https://localhost:8080/"
        },
        "id": "iKczzRZV7NMS",
        "outputId": "254e53ad-4212-43f5-caab-d8a32517922e"
      },
      "execution_count": null,
      "outputs": [
        {
          "output_type": "stream",
          "name": "stdout",
          "text": [
            "✅ Aresta modificada com sucesso!\n"
          ]
        },
        {
          "output_type": "stream",
          "name": "stderr",
          "text": [
            "/tmp/ipython-input-3577773305.py:5: DeprecationWarning: Using a driver after it has been closed is deprecated. Future versions of the driver will raise an error.\n",
            "  with driver.session() as session:\n"
          ]
        }
      ]
    },
    {
      "cell_type": "code",
      "source": [
        "#Teste Modificação de Aresta\n",
        "node_id = \"M22\"\n",
        "connected_nodes = get_connected_nodes(node_id)\n",
        "for connection in connected_nodes:\n",
        "  modificar_aresta_simples(\n",
        "    source_id=\"M22\",\n",
        "    target_id=connection['target_properties']['Marco'],\n",
        "    rel_type=\"Conects\",\n",
        "    nova_propriedade=\"Arvores\",\n",
        "    valor=6\n",
        "  )"
      ],
      "metadata": {
        "colab": {
          "base_uri": "https://localhost:8080/"
        },
        "id": "AzLdQuEhFisz",
        "outputId": "86d1932d-6273-4b00-fe9d-966acc3027a8"
      },
      "execution_count": null,
      "outputs": [
        {
          "output_type": "stream",
          "name": "stdout",
          "text": [
            "✅ Aresta modificada com sucesso!\n",
            "✅ Aresta modificada com sucesso!\n"
          ]
        },
        {
          "output_type": "stream",
          "name": "stderr",
          "text": [
            "/tmp/ipython-input-1938597841.py:5: DeprecationWarning: Using a driver after it has been closed is deprecated. Future versions of the driver will raise an error.\n",
            "  with driver.session() as session:\n"
          ]
        }
      ]
    },
    {
      "cell_type": "code",
      "source": [
        "node_id = \"M22\"\n",
        "connected_nodes = get_connected_nodes(node_id)\n",
        "for connection in connected_nodes:\n",
        "  modificar_aresta_simples(\n",
        "    source_id=\"M22\",\n",
        "    target_id=connection['target_properties']['Marco'],\n",
        "    rel_type=\"Conects\",\n",
        "    nova_propriedade=\"Arvores\",\n",
        "    valor=6\n",
        "  )"
      ],
      "metadata": {
        "id": "phGp7l8TGZvT"
      },
      "execution_count": null,
      "outputs": []
    },
    {
      "cell_type": "code",
      "source": [
        "node_id = \"M22\"\n",
        "connected_nodes = get_connected_nodes(node_id)\n",
        "for connection in connected_nodes:\n",
        "  print(connection['target_properties']['latitude'])\n",
        "  print(connection['target_properties']['longitude'])"
      ],
      "metadata": {
        "colab": {
          "base_uri": "https://localhost:8080/"
        },
        "id": "a3n4ko0UGsma",
        "outputId": "2904aaee-96a8-498d-ce5a-5bde3b8a2a8b"
      },
      "execution_count": null,
      "outputs": [
        {
          "output_type": "stream",
          "name": "stdout",
          "text": [
            "-25.437454\n",
            "-49.280731\n",
            "-25.437304\n",
            "-49.279156\n"
          ]
        },
        {
          "output_type": "stream",
          "name": "stderr",
          "text": [
            "/tmp/ipython-input-1938597841.py:5: DeprecationWarning: Using a driver after it has been closed is deprecated. Future versions of the driver will raise an error.\n",
            "  with driver.session() as session:\n"
          ]
        }
      ]
    },
    {
      "cell_type": "code",
      "source": [
        "#Rotina para alteração do banco NEO4J (A concluir)\n",
        "DownLoc = '/content/data'\n",
        "Ini = [-25.42625795070118, -49.25913158114752]\n",
        "Fim = [-25.427595111697098, -49.24361768421039]\n",
        "ang = 0\n",
        "print(ang)\n",
        "d = dist(Ini, Fim)\n",
        "print(int(d*100000))\n",
        "d = int(d*100000) / Dphotos\n",
        "d = int(d)\n",
        "print(d)\n",
        "\n",
        "LonPlus = (Fim [0] - Ini[0]) / d\n",
        "LatPlus = (Fim [1] - Ini[1]) / d\n",
        "DataList = np.zeros((d+1,3))\n",
        "\n",
        "for i in range(d+1):\n",
        "  DataList[i][0] = Ini[0] + (LonPlus * i)\n",
        "  DataList[i][1] = Ini[1] + (LatPlus * i)\n",
        "  DataList[i][2] = ang+180\n",
        "\n",
        "print(DataList)\n",
        "\n",
        "image_list = []\n",
        "\n",
        "ct = 0\n",
        "for i in DataList:\n",
        "    ct += 1\n",
        "    fi = \"Image_\" + str(ct)\n",
        "    temp = GetStreetLL(Lat=i[0],Lon=i[1],Head=i[2],File=fi,SaveLoc=DownLoc)\n",
        "\n",
        "    if temp[2] is not None:\n",
        "        image_list.append(temp)"
      ],
      "metadata": {
        "id": "xWfg282sI5AZ"
      },
      "execution_count": null,
      "outputs": []
    }
  ]
}